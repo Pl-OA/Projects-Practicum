{
 "cells": [
  {
   "cell_type": "markdown",
   "id": "50025477",
   "metadata": {
    "toc": true
   },
   "source": [
    "<h1>Table of Contents<span class=\"tocSkip\"></span></h1>\n",
    "<div class=\"toc\"><ul class=\"toc-item\"><li><span><a href=\"#Описание-проекта\" data-toc-modified-id=\"Описание-проекта-1\"><span class=\"toc-item-num\">1&nbsp;&nbsp;</span>Описание проекта</a></span></li><li><span><a href=\"#Общая-информация\" data-toc-modified-id=\"Общая-информация-2\"><span class=\"toc-item-num\">2&nbsp;&nbsp;</span>Общая информация</a></span><ul class=\"toc-item\"><li><span><a href=\"#Подключим-библиотеки\" data-toc-modified-id=\"Подключим-библиотеки-2.1\"><span class=\"toc-item-num\">2.1&nbsp;&nbsp;</span>Подключим библиотеки</a></span></li><li><span><a href=\"#Прочитаем-данные\" data-toc-modified-id=\"Прочитаем-данные-2.2\"><span class=\"toc-item-num\">2.2&nbsp;&nbsp;</span>Прочитаем данные</a></span></li><li><span><a href=\"#Описание-данных\" data-toc-modified-id=\"Описание-данных-2.3\"><span class=\"toc-item-num\">2.3&nbsp;&nbsp;</span>Описание данных</a></span></li><li><span><a href=\"#Вывод:\" data-toc-modified-id=\"Вывод:-2.4\"><span class=\"toc-item-num\">2.4&nbsp;&nbsp;</span>Вывод:</a></span></li></ul></li><li><span><a href=\"#Предобработка-данных\" data-toc-modified-id=\"Предобработка-данных-3\"><span class=\"toc-item-num\">3&nbsp;&nbsp;</span>Предобработка данных</a></span><ul class=\"toc-item\"><li><span><a href=\"#Заменим-названия-столбцов\" data-toc-modified-id=\"Заменим-названия-столбцов-3.1\"><span class=\"toc-item-num\">3.1&nbsp;&nbsp;</span>Заменим названия столбцов</a></span></li><li><span><a href=\"#Изменить-тип-данных-в-столбце-date_time\" data-toc-modified-id=\"Изменить-тип-данных-в-столбце-date_time-3.2\"><span class=\"toc-item-num\">3.2&nbsp;&nbsp;</span>Изменить тип данных в столбце date_time</a></span></li><li><span><a href=\"#Добавить-колонку-даты\" data-toc-modified-id=\"Добавить-колонку-даты-3.3\"><span class=\"toc-item-num\">3.3&nbsp;&nbsp;</span>Добавить колонку даты</a></span></li><li><span><a href=\"#Проверим-дубликаты\" data-toc-modified-id=\"Проверим-дубликаты-3.4\"><span class=\"toc-item-num\">3.4&nbsp;&nbsp;</span>Проверим дубликаты</a></span></li><li><span><a href=\"#Вывод\" data-toc-modified-id=\"Вывод-3.5\"><span class=\"toc-item-num\">3.5&nbsp;&nbsp;</span>Вывод</a></span></li></ul></li><li><span><a href=\"#Изучим-и-проверим-данные\" data-toc-modified-id=\"Изучим-и-проверим-данные-4\"><span class=\"toc-item-num\">4&nbsp;&nbsp;</span>Изучим и проверим данные</a></span><ul class=\"toc-item\"><li><span><a href=\"#Количество-событий,-пользователей\" data-toc-modified-id=\"Количество-событий,-пользователей-4.1\"><span class=\"toc-item-num\">4.1&nbsp;&nbsp;</span>Количество событий, пользователей</a></span></li><li><span><a href=\"#Гистограмма-событий-по-дате\" data-toc-modified-id=\"Гистограмма-событий-по-дате-4.2\"><span class=\"toc-item-num\">4.2&nbsp;&nbsp;</span>Гистограмма событий по дате</a></span></li><li><span><a href=\"#Очистка-данных\" data-toc-modified-id=\"Очистка-данных-4.3\"><span class=\"toc-item-num\">4.3&nbsp;&nbsp;</span>Очистка данных</a></span></li><li><span><a href=\"#Распределение-пользователей-по-группам-после-очистки-данных\" data-toc-modified-id=\"Распределение-пользователей-по-группам-после-очистки-данных-4.4\"><span class=\"toc-item-num\">4.4&nbsp;&nbsp;</span>Распределение пользователей по группам после очистки данных</a></span></li><li><span><a href=\"#Вывод\" data-toc-modified-id=\"Вывод-4.5\"><span class=\"toc-item-num\">4.5&nbsp;&nbsp;</span>Вывод</a></span></li></ul></li><li><span><a href=\"#Изучим-воронку-событий\" data-toc-modified-id=\"Изучим-воронку-событий-5\"><span class=\"toc-item-num\">5&nbsp;&nbsp;</span>Изучим воронку событий</a></span><ul class=\"toc-item\"><li><span><a href=\"#События-в-логах\" data-toc-modified-id=\"События-в-логах-5.1\"><span class=\"toc-item-num\">5.1&nbsp;&nbsp;</span>События в логах</a></span></li><li><span><a href=\"#События-и-пользователи\" data-toc-modified-id=\"События-и-пользователи-5.2\"><span class=\"toc-item-num\">5.2&nbsp;&nbsp;</span>События и пользователи</a></span></li><li><span><a href=\"#Воронка-событий\" data-toc-modified-id=\"Воронка-событий-5.3\"><span class=\"toc-item-num\">5.3&nbsp;&nbsp;</span>Воронка событий</a></span></li><li><span><a href=\"#Вывод\" data-toc-modified-id=\"Вывод-5.4\"><span class=\"toc-item-num\">5.4&nbsp;&nbsp;</span>Вывод</a></span></li></ul></li><li><span><a href=\"#Изучим-результаты-эксперимента\" data-toc-modified-id=\"Изучим-результаты-эксперимента-6\"><span class=\"toc-item-num\">6&nbsp;&nbsp;</span>Изучим результаты эксперимента</a></span><ul class=\"toc-item\"><li><span><a href=\"#Статистическая-разница-между-выборками\" data-toc-modified-id=\"Статистическая-разница-между-выборками-6.1\"><span class=\"toc-item-num\">6.1&nbsp;&nbsp;</span>Статистическая разница между выборками</a></span></li><li><span><a href=\"#Самое-популярное-событие\" data-toc-modified-id=\"Самое-популярное-событие-6.2\"><span class=\"toc-item-num\">6.2&nbsp;&nbsp;</span>Самое популярное событие</a></span></li><li><span><a href=\"#Стат-различие-между-контрольными-группами-и-группой-с-измененным-шифром-по-событиям\" data-toc-modified-id=\"Стат-различие-между-контрольными-группами-и-группой-с-измененным-шифром-по-событиям-6.3\"><span class=\"toc-item-num\">6.3&nbsp;&nbsp;</span>Стат различие между контрольными группами и группой с измененным шифром по событиям</a></span></li><li><span><a href=\"#Уровень-значимости\" data-toc-modified-id=\"Уровень-значимости-6.4\"><span class=\"toc-item-num\">6.4&nbsp;&nbsp;</span>Уровень значимости</a></span></li></ul></li><li><span><a href=\"#Вывод\" data-toc-modified-id=\"Вывод-7\"><span class=\"toc-item-num\">7&nbsp;&nbsp;</span>Вывод</a></span></li></ul></div>"
   ]
  },
  {
   "cell_type": "markdown",
   "id": "623a6ad1",
   "metadata": {},
   "source": [
    "# Аналитика мобильного приложения стартапа."
   ]
  },
  {
   "cell_type": "markdown",
   "id": "a894c62f",
   "metadata": {},
   "source": [
    "## Описание проекта"
   ]
  },
  {
   "cell_type": "markdown",
   "id": "faac6f78",
   "metadata": {},
   "source": [
    "    Данные предоставлены стартапом по продажам продуктов питания.\n",
    "    \n",
    "    Необходимо разобраться как ведут себя пользователи мобильного приложения магазина.\n",
    "    \n",
    "    Задача проекта:\n",
    "    \n",
    "    1.изучить воронку продаж (как пользователи доходят до покупки, сколько пользователей застревает, на каких \"шагах\" застревает пользователь)\n",
    "    \n",
    "    2.исследовать результаты А/А/В - теста. В группу В попали пользователия, которые видят новый шифр в приложении. Выяснить, повлияло ли изменение шифра на поведение пользователей."
   ]
  },
  {
   "cell_type": "markdown",
   "id": "2298ac26",
   "metadata": {},
   "source": [
    "## Общая информация"
   ]
  },
  {
   "cell_type": "markdown",
   "id": "4785eee1",
   "metadata": {},
   "source": [
    "### Подключим библиотеки"
   ]
  },
  {
   "cell_type": "code",
   "execution_count": 1,
   "id": "fc65dae0",
   "metadata": {},
   "outputs": [],
   "source": [
    "import pandas as pd\n",
    "import scipy.stats as stats\n",
    "import datetime as dt\n",
    "import numpy as np\n",
    "from matplotlib import pyplot as plt\n",
    "from pandas.plotting import register_matplotlib_converters\n",
    "import warnings\n",
    "register_matplotlib_converters()\n",
    "import seaborn as sns"
   ]
  },
  {
   "cell_type": "markdown",
   "id": "b4827e19",
   "metadata": {},
   "source": [
    "### Прочитаем данные"
   ]
  },
  {
   "cell_type": "code",
   "execution_count": 3,
   "id": "d53b1d26",
   "metadata": {},
   "outputs": [
    {
     "data": {
      "text/html": [
       "<div>\n",
       "<style scoped>\n",
       "    .dataframe tbody tr th:only-of-type {\n",
       "        vertical-align: middle;\n",
       "    }\n",
       "\n",
       "    .dataframe tbody tr th {\n",
       "        vertical-align: top;\n",
       "    }\n",
       "\n",
       "    .dataframe thead th {\n",
       "        text-align: right;\n",
       "    }\n",
       "</style>\n",
       "<table border=\"1\" class=\"dataframe\">\n",
       "  <thead>\n",
       "    <tr style=\"text-align: right;\">\n",
       "      <th></th>\n",
       "      <th>EventName</th>\n",
       "      <th>DeviceIDHash</th>\n",
       "      <th>EventTimestamp</th>\n",
       "      <th>ExpId</th>\n",
       "    </tr>\n",
       "  </thead>\n",
       "  <tbody>\n",
       "    <tr>\n",
       "      <th>0</th>\n",
       "      <td>MainScreenAppear</td>\n",
       "      <td>4575588528974610257</td>\n",
       "      <td>1564029816</td>\n",
       "      <td>246</td>\n",
       "    </tr>\n",
       "    <tr>\n",
       "      <th>1</th>\n",
       "      <td>MainScreenAppear</td>\n",
       "      <td>7416695313311560658</td>\n",
       "      <td>1564053102</td>\n",
       "      <td>246</td>\n",
       "    </tr>\n",
       "    <tr>\n",
       "      <th>2</th>\n",
       "      <td>PaymentScreenSuccessful</td>\n",
       "      <td>3518123091307005509</td>\n",
       "      <td>1564054127</td>\n",
       "      <td>248</td>\n",
       "    </tr>\n",
       "    <tr>\n",
       "      <th>3</th>\n",
       "      <td>CartScreenAppear</td>\n",
       "      <td>3518123091307005509</td>\n",
       "      <td>1564054127</td>\n",
       "      <td>248</td>\n",
       "    </tr>\n",
       "    <tr>\n",
       "      <th>4</th>\n",
       "      <td>PaymentScreenSuccessful</td>\n",
       "      <td>6217807653094995999</td>\n",
       "      <td>1564055322</td>\n",
       "      <td>248</td>\n",
       "    </tr>\n",
       "  </tbody>\n",
       "</table>\n",
       "</div>"
      ],
      "text/plain": [
       "                 EventName         DeviceIDHash  EventTimestamp  ExpId\n",
       "0         MainScreenAppear  4575588528974610257      1564029816    246\n",
       "1         MainScreenAppear  7416695313311560658      1564053102    246\n",
       "2  PaymentScreenSuccessful  3518123091307005509      1564054127    248\n",
       "3         CartScreenAppear  3518123091307005509      1564054127    248\n",
       "4  PaymentScreenSuccessful  6217807653094995999      1564055322    248"
      ]
     },
     "execution_count": 3,
     "metadata": {},
     "output_type": "execute_result"
    }
   ],
   "source": [
    "df.head(5)"
   ]
  },
  {
   "cell_type": "markdown",
   "id": "f3f0bc9f",
   "metadata": {},
   "source": [
    "### Описание данных"
   ]
  },
  {
   "cell_type": "markdown",
   "id": "69d072cb",
   "metadata": {},
   "source": [
    "•\tEventName — название события;\n",
    "\n",
    "•\tDeviceIDHash — уникальный идентификатор пользователя\n",
    "\n",
    "•\tEventTimestamp — время события;\n",
    "\n",
    "•\tExpId — номер эксперимента: 246 и 247 — контрольные группы, а 248 — экспериментальная.\n",
    "\n"
   ]
  },
  {
   "cell_type": "code",
   "execution_count": 4,
   "id": "1f7b33c7",
   "metadata": {},
   "outputs": [
    {
     "name": "stdout",
     "output_type": "stream",
     "text": [
      "<class 'pandas.core.frame.DataFrame'>\n",
      "RangeIndex: 244126 entries, 0 to 244125\n",
      "Data columns (total 4 columns):\n",
      " #   Column          Non-Null Count   Dtype \n",
      "---  ------          --------------   ----- \n",
      " 0   EventName       244126 non-null  object\n",
      " 1   DeviceIDHash    244126 non-null  int64 \n",
      " 2   EventTimestamp  244126 non-null  int64 \n",
      " 3   ExpId           244126 non-null  int64 \n",
      "dtypes: int64(3), object(1)\n",
      "memory usage: 7.5+ MB\n",
      "None\n"
     ]
    }
   ],
   "source": [
    "print (df.info())"
   ]
  },
  {
   "cell_type": "code",
   "execution_count": 5,
   "id": "15816a7a",
   "metadata": {},
   "outputs": [
    {
     "name": "stdout",
     "output_type": "stream",
     "text": [
      "EventName         0\n",
      "DeviceIDHash      0\n",
      "EventTimestamp    0\n",
      "ExpId             0\n",
      "dtype: int64\n"
     ]
    }
   ],
   "source": [
    "print(df.isnull().sum())"
   ]
  },
  {
   "cell_type": "code",
   "execution_count": 6,
   "id": "fde8885d",
   "metadata": {},
   "outputs": [
    {
     "data": {
      "text/html": [
       "<div>\n",
       "<style scoped>\n",
       "    .dataframe tbody tr th:only-of-type {\n",
       "        vertical-align: middle;\n",
       "    }\n",
       "\n",
       "    .dataframe tbody tr th {\n",
       "        vertical-align: top;\n",
       "    }\n",
       "\n",
       "    .dataframe thead th {\n",
       "        text-align: right;\n",
       "    }\n",
       "</style>\n",
       "<table border=\"1\" class=\"dataframe\">\n",
       "  <thead>\n",
       "    <tr style=\"text-align: right;\">\n",
       "      <th></th>\n",
       "      <th>EventName</th>\n",
       "      <th>DeviceIDHash</th>\n",
       "      <th>EventTimestamp</th>\n",
       "      <th>ExpId</th>\n",
       "    </tr>\n",
       "  </thead>\n",
       "  <tbody>\n",
       "    <tr>\n",
       "      <th>count</th>\n",
       "      <td>244126</td>\n",
       "      <td>2.441260e+05</td>\n",
       "      <td>2.441260e+05</td>\n",
       "      <td>244126.000000</td>\n",
       "    </tr>\n",
       "    <tr>\n",
       "      <th>unique</th>\n",
       "      <td>5</td>\n",
       "      <td>NaN</td>\n",
       "      <td>NaN</td>\n",
       "      <td>NaN</td>\n",
       "    </tr>\n",
       "    <tr>\n",
       "      <th>top</th>\n",
       "      <td>MainScreenAppear</td>\n",
       "      <td>NaN</td>\n",
       "      <td>NaN</td>\n",
       "      <td>NaN</td>\n",
       "    </tr>\n",
       "    <tr>\n",
       "      <th>freq</th>\n",
       "      <td>119205</td>\n",
       "      <td>NaN</td>\n",
       "      <td>NaN</td>\n",
       "      <td>NaN</td>\n",
       "    </tr>\n",
       "    <tr>\n",
       "      <th>mean</th>\n",
       "      <td>NaN</td>\n",
       "      <td>4.627568e+18</td>\n",
       "      <td>1.564914e+09</td>\n",
       "      <td>247.022296</td>\n",
       "    </tr>\n",
       "    <tr>\n",
       "      <th>std</th>\n",
       "      <td>NaN</td>\n",
       "      <td>2.642425e+18</td>\n",
       "      <td>1.771343e+05</td>\n",
       "      <td>0.824434</td>\n",
       "    </tr>\n",
       "    <tr>\n",
       "      <th>min</th>\n",
       "      <td>NaN</td>\n",
       "      <td>6.888747e+15</td>\n",
       "      <td>1.564030e+09</td>\n",
       "      <td>246.000000</td>\n",
       "    </tr>\n",
       "    <tr>\n",
       "      <th>25%</th>\n",
       "      <td>NaN</td>\n",
       "      <td>2.372212e+18</td>\n",
       "      <td>1.564757e+09</td>\n",
       "      <td>246.000000</td>\n",
       "    </tr>\n",
       "    <tr>\n",
       "      <th>50%</th>\n",
       "      <td>NaN</td>\n",
       "      <td>4.623192e+18</td>\n",
       "      <td>1.564919e+09</td>\n",
       "      <td>247.000000</td>\n",
       "    </tr>\n",
       "    <tr>\n",
       "      <th>75%</th>\n",
       "      <td>NaN</td>\n",
       "      <td>6.932517e+18</td>\n",
       "      <td>1.565075e+09</td>\n",
       "      <td>248.000000</td>\n",
       "    </tr>\n",
       "    <tr>\n",
       "      <th>max</th>\n",
       "      <td>NaN</td>\n",
       "      <td>9.222603e+18</td>\n",
       "      <td>1.565213e+09</td>\n",
       "      <td>248.000000</td>\n",
       "    </tr>\n",
       "  </tbody>\n",
       "</table>\n",
       "</div>"
      ],
      "text/plain": [
       "               EventName  DeviceIDHash  EventTimestamp          ExpId\n",
       "count             244126  2.441260e+05    2.441260e+05  244126.000000\n",
       "unique                 5           NaN             NaN            NaN\n",
       "top     MainScreenAppear           NaN             NaN            NaN\n",
       "freq              119205           NaN             NaN            NaN\n",
       "mean                 NaN  4.627568e+18    1.564914e+09     247.022296\n",
       "std                  NaN  2.642425e+18    1.771343e+05       0.824434\n",
       "min                  NaN  6.888747e+15    1.564030e+09     246.000000\n",
       "25%                  NaN  2.372212e+18    1.564757e+09     246.000000\n",
       "50%                  NaN  4.623192e+18    1.564919e+09     247.000000\n",
       "75%                  NaN  6.932517e+18    1.565075e+09     248.000000\n",
       "max                  NaN  9.222603e+18    1.565213e+09     248.000000"
      ]
     },
     "execution_count": 6,
     "metadata": {},
     "output_type": "execute_result"
    }
   ],
   "source": [
    "df.describe(include = \"all\")"
   ]
  },
  {
   "cell_type": "code",
   "execution_count": 7,
   "id": "382f5240",
   "metadata": {},
   "outputs": [
    {
     "data": {
      "text/plain": [
       "3"
      ]
     },
     "execution_count": 7,
     "metadata": {},
     "output_type": "execute_result"
    }
   ],
   "source": [
    "df['ExpId'].nunique()"
   ]
  },
  {
   "cell_type": "code",
   "execution_count": 8,
   "id": "85db6b42",
   "metadata": {},
   "outputs": [
    {
     "data": {
      "image/png": "[encoded data removed]",
      "text/plain": [
       "<Figure size 400x400 with 4 Axes>"
      ]
     },
     "metadata": {},
     "output_type": "display_data"
    }
   ],
   "source": [
    "df.hist(bins= 20, figsize=(4,4));"
   ]
  },
  {
   "cell_type": "markdown",
   "id": "7de92410",
   "metadata": {},
   "source": [
    "### Вывод:"
   ]
  },
  {
   "cell_type": "markdown",
   "id": "0147e14c",
   "metadata": {},
   "source": [
    "В файле logs_exp.csv даны 4 столбца и 244126 строчки. Пропусков в данных нет.\n",
    "\n",
    "В колонке ExpId три группы 246-248, как и было указано в описании.\n",
    "\n",
    "Колонка EventName содержит 5 уникальных названий событий.\n",
    "\n",
    "Колонка с данными о датах выглядит странно на гистограмме, даже с учетом того что данные не приведены к нужному типу.\n",
    "\n",
    "Необходимо:\n",
    "\n",
    "- привести к \"змеиному\" регистру наименования столбцов или переименовать\n",
    "\n",
    "- привести даты к необходимому типу данных\n",
    "\n",
    "- проверить дубликаты"
   ]
  },
  {
   "cell_type": "markdown",
   "id": "f6520ef6",
   "metadata": {},
   "source": [
    "## Предобработка данных"
   ]
  },
  {
   "cell_type": "markdown",
   "id": "e75c25ad",
   "metadata": {},
   "source": [
    "### Заменим названия столбцов"
   ]
  },
  {
   "cell_type": "code",
   "execution_count": 9,
   "id": "8f7b6469",
   "metadata": {},
   "outputs": [
    {
     "data": {
      "text/html": [
       "<div>\n",
       "<style scoped>\n",
       "    .dataframe tbody tr th:only-of-type {\n",
       "        vertical-align: middle;\n",
       "    }\n",
       "\n",
       "    .dataframe tbody tr th {\n",
       "        vertical-align: top;\n",
       "    }\n",
       "\n",
       "    .dataframe thead th {\n",
       "        text-align: right;\n",
       "    }\n",
       "</style>\n",
       "<table border=\"1\" class=\"dataframe\">\n",
       "  <thead>\n",
       "    <tr style=\"text-align: right;\">\n",
       "      <th></th>\n",
       "      <th>event</th>\n",
       "      <th>user_id</th>\n",
       "      <th>date_time</th>\n",
       "      <th>group</th>\n",
       "    </tr>\n",
       "  </thead>\n",
       "  <tbody>\n",
       "    <tr>\n",
       "      <th>0</th>\n",
       "      <td>MainScreenAppear</td>\n",
       "      <td>4575588528974610257</td>\n",
       "      <td>1564029816</td>\n",
       "      <td>246</td>\n",
       "    </tr>\n",
       "    <tr>\n",
       "      <th>1</th>\n",
       "      <td>MainScreenAppear</td>\n",
       "      <td>7416695313311560658</td>\n",
       "      <td>1564053102</td>\n",
       "      <td>246</td>\n",
       "    </tr>\n",
       "    <tr>\n",
       "      <th>2</th>\n",
       "      <td>PaymentScreenSuccessful</td>\n",
       "      <td>3518123091307005509</td>\n",
       "      <td>1564054127</td>\n",
       "      <td>248</td>\n",
       "    </tr>\n",
       "  </tbody>\n",
       "</table>\n",
       "</div>"
      ],
      "text/plain": [
       "                     event              user_id   date_time  group\n",
       "0         MainScreenAppear  4575588528974610257  1564029816    246\n",
       "1         MainScreenAppear  7416695313311560658  1564053102    246\n",
       "2  PaymentScreenSuccessful  3518123091307005509  1564054127    248"
      ]
     },
     "execution_count": 9,
     "metadata": {},
     "output_type": "execute_result"
    }
   ],
   "source": [
    "df.columns = ['event', 'user_id', 'date_time', 'group']\n",
    "df.head(3)"
   ]
  },
  {
   "cell_type": "markdown",
   "id": "90c0cd58",
   "metadata": {},
   "source": [
    "### Изменить тип данных в столбце date_time"
   ]
  },
  {
   "cell_type": "code",
   "execution_count": 10,
   "id": "bc3b7679",
   "metadata": {},
   "outputs": [
    {
     "data": {
      "text/html": [
       "<div>\n",
       "<style scoped>\n",
       "    .dataframe tbody tr th:only-of-type {\n",
       "        vertical-align: middle;\n",
       "    }\n",
       "\n",
       "    .dataframe tbody tr th {\n",
       "        vertical-align: top;\n",
       "    }\n",
       "\n",
       "    .dataframe thead th {\n",
       "        text-align: right;\n",
       "    }\n",
       "</style>\n",
       "<table border=\"1\" class=\"dataframe\">\n",
       "  <thead>\n",
       "    <tr style=\"text-align: right;\">\n",
       "      <th></th>\n",
       "      <th>event</th>\n",
       "      <th>user_id</th>\n",
       "      <th>date_time</th>\n",
       "      <th>group</th>\n",
       "    </tr>\n",
       "  </thead>\n",
       "  <tbody>\n",
       "    <tr>\n",
       "      <th>0</th>\n",
       "      <td>MainScreenAppear</td>\n",
       "      <td>4575588528974610257</td>\n",
       "      <td>2019-07-25 04:43:36</td>\n",
       "      <td>246</td>\n",
       "    </tr>\n",
       "    <tr>\n",
       "      <th>1</th>\n",
       "      <td>MainScreenAppear</td>\n",
       "      <td>7416695313311560658</td>\n",
       "      <td>2019-07-25 11:11:42</td>\n",
       "      <td>246</td>\n",
       "    </tr>\n",
       "  </tbody>\n",
       "</table>\n",
       "</div>"
      ],
      "text/plain": [
       "              event              user_id           date_time  group\n",
       "0  MainScreenAppear  4575588528974610257 2019-07-25 04:43:36    246\n",
       "1  MainScreenAppear  7416695313311560658 2019-07-25 11:11:42    246"
      ]
     },
     "execution_count": 10,
     "metadata": {},
     "output_type": "execute_result"
    }
   ],
   "source": [
    "df['date_time'] = pd.to_datetime(df['date_time'], unit='s')\n",
    "df.head(2)"
   ]
  },
  {
   "cell_type": "markdown",
   "id": "8584baa6",
   "metadata": {},
   "source": [
    "### Добавить колонку даты"
   ]
  },
  {
   "cell_type": "code",
   "execution_count": 11,
   "id": "097599bf",
   "metadata": {},
   "outputs": [
    {
     "data": {
      "text/html": [
       "<div>\n",
       "<style scoped>\n",
       "    .dataframe tbody tr th:only-of-type {\n",
       "        vertical-align: middle;\n",
       "    }\n",
       "\n",
       "    .dataframe tbody tr th {\n",
       "        vertical-align: top;\n",
       "    }\n",
       "\n",
       "    .dataframe thead th {\n",
       "        text-align: right;\n",
       "    }\n",
       "</style>\n",
       "<table border=\"1\" class=\"dataframe\">\n",
       "  <thead>\n",
       "    <tr style=\"text-align: right;\">\n",
       "      <th></th>\n",
       "      <th>event</th>\n",
       "      <th>user_id</th>\n",
       "      <th>date_time</th>\n",
       "      <th>group</th>\n",
       "      <th>date</th>\n",
       "    </tr>\n",
       "  </thead>\n",
       "  <tbody>\n",
       "    <tr>\n",
       "      <th>0</th>\n",
       "      <td>MainScreenAppear</td>\n",
       "      <td>4575588528974610257</td>\n",
       "      <td>2019-07-25 04:43:36</td>\n",
       "      <td>246</td>\n",
       "      <td>2019-07-25</td>\n",
       "    </tr>\n",
       "    <tr>\n",
       "      <th>1</th>\n",
       "      <td>MainScreenAppear</td>\n",
       "      <td>7416695313311560658</td>\n",
       "      <td>2019-07-25 11:11:42</td>\n",
       "      <td>246</td>\n",
       "      <td>2019-07-25</td>\n",
       "    </tr>\n",
       "  </tbody>\n",
       "</table>\n",
       "</div>"
      ],
      "text/plain": [
       "              event              user_id           date_time  group       date\n",
       "0  MainScreenAppear  4575588528974610257 2019-07-25 04:43:36    246 2019-07-25\n",
       "1  MainScreenAppear  7416695313311560658 2019-07-25 11:11:42    246 2019-07-25"
      ]
     },
     "execution_count": 11,
     "metadata": {},
     "output_type": "execute_result"
    }
   ],
   "source": [
    "df['date'] = pd.to_datetime(df['date_time'].dt.date)\n",
    "df.head(2)"
   ]
  },
  {
   "cell_type": "markdown",
   "id": "12d20399",
   "metadata": {},
   "source": [
    "### Проверим дубликаты"
   ]
  },
  {
   "cell_type": "code",
   "execution_count": 12,
   "id": "d911afc7",
   "metadata": {},
   "outputs": [
    {
     "data": {
      "text/plain": [
       "413"
      ]
     },
     "execution_count": 12,
     "metadata": {},
     "output_type": "execute_result"
    }
   ],
   "source": [
    "df.duplicated().sum()"
   ]
  },
  {
   "cell_type": "code",
   "execution_count": 13,
   "id": "38d5c8fe",
   "metadata": {},
   "outputs": [],
   "source": [
    "#удалим дубликаты\n",
    "df = df.drop_duplicates().reset_index(drop=True)"
   ]
  },
  {
   "cell_type": "code",
   "execution_count": 14,
   "id": "06d0b79f",
   "metadata": {},
   "outputs": [
    {
     "data": {
      "text/html": [
       "<div>\n",
       "<style scoped>\n",
       "    .dataframe tbody tr th:only-of-type {\n",
       "        vertical-align: middle;\n",
       "    }\n",
       "\n",
       "    .dataframe tbody tr th {\n",
       "        vertical-align: top;\n",
       "    }\n",
       "\n",
       "    .dataframe thead th {\n",
       "        text-align: right;\n",
       "    }\n",
       "</style>\n",
       "<table border=\"1\" class=\"dataframe\">\n",
       "  <thead>\n",
       "    <tr style=\"text-align: right;\">\n",
       "      <th></th>\n",
       "      <th>group</th>\n",
       "    </tr>\n",
       "    <tr>\n",
       "      <th>user_id</th>\n",
       "      <th></th>\n",
       "    </tr>\n",
       "  </thead>\n",
       "  <tbody>\n",
       "    <tr>\n",
       "      <th>6888746892508752</th>\n",
       "      <td>1</td>\n",
       "    </tr>\n",
       "    <tr>\n",
       "      <th>6207768971558512760</th>\n",
       "      <td>1</td>\n",
       "    </tr>\n",
       "    <tr>\n",
       "      <th>6217807653094995999</th>\n",
       "      <td>1</td>\n",
       "    </tr>\n",
       "    <tr>\n",
       "      <th>6217295124800833842</th>\n",
       "      <td>1</td>\n",
       "    </tr>\n",
       "    <tr>\n",
       "      <th>6216080220799726690</th>\n",
       "      <td>1</td>\n",
       "    </tr>\n",
       "    <tr>\n",
       "      <th>...</th>\n",
       "      <td>...</td>\n",
       "    </tr>\n",
       "    <tr>\n",
       "      <th>3175239243679501019</th>\n",
       "      <td>1</td>\n",
       "    </tr>\n",
       "    <tr>\n",
       "      <th>3171891164497446149</th>\n",
       "      <td>1</td>\n",
       "    </tr>\n",
       "    <tr>\n",
       "      <th>3171454373076660766</th>\n",
       "      <td>1</td>\n",
       "    </tr>\n",
       "    <tr>\n",
       "      <th>3170212200647575044</th>\n",
       "      <td>1</td>\n",
       "    </tr>\n",
       "    <tr>\n",
       "      <th>9222603179720523844</th>\n",
       "      <td>1</td>\n",
       "    </tr>\n",
       "  </tbody>\n",
       "</table>\n",
       "<p>7551 rows × 1 columns</p>\n",
       "</div>"
      ],
      "text/plain": [
       "                     group\n",
       "user_id                   \n",
       "6888746892508752         1\n",
       "6207768971558512760      1\n",
       "6217807653094995999      1\n",
       "6217295124800833842      1\n",
       "6216080220799726690      1\n",
       "...                    ...\n",
       "3175239243679501019      1\n",
       "3171891164497446149      1\n",
       "3171454373076660766      1\n",
       "3170212200647575044      1\n",
       "9222603179720523844      1\n",
       "\n",
       "[7551 rows x 1 columns]"
      ]
     },
     "execution_count": 14,
     "metadata": {},
     "output_type": "execute_result"
    }
   ],
   "source": [
    "# проверим, есть ли пользователи в разных группах одновременно:\n",
    "df.groupby('user_id').agg({'group':'nunique'}).sort_values(by='group', ascending=False)"
   ]
  },
  {
   "cell_type": "markdown",
   "id": "92f08c63",
   "metadata": {},
   "source": [
    "### Вывод"
   ]
  },
  {
   "cell_type": "markdown",
   "id": "b72d346f",
   "metadata": {},
   "source": [
    " - Заменили названия столбцов на более удобные\n",
    " \n",
    " - Заменили тип данных в столбце date_time\n",
    " \n",
    " - Добавили столбец с датой\n",
    " \n",
    " - Удалили 413 дубликатов\n",
    " \n",
    " - ID пользователей, участвующих в двух или более группах - нет\n",
    " "
   ]
  },
  {
   "cell_type": "markdown",
   "id": "3a171b04",
   "metadata": {},
   "source": [
    "## Изучим и проверим данные"
   ]
  },
  {
   "cell_type": "markdown",
   "id": "1b8c213f",
   "metadata": {},
   "source": [
    "### Количество событий, пользователей"
   ]
  },
  {
   "cell_type": "code",
   "execution_count": 15,
   "id": "a0ddb6dc",
   "metadata": {
    "scrolled": true
   },
   "outputs": [
    {
     "name": "stdout",
     "output_type": "stream",
     "text": [
      "Перед нами данные с 2019-07-25 04:43:36 по 2019-08-07 21:15:17.\n",
      "\n",
      "Всего событий в логе 243713.\n",
      "\n",
      "Всего пользователей в логе 7551.\n",
      "\n",
      "Количество событий на пользователя в среднем event    32.0\n",
      "dtype: float64.\n"
     ]
    }
   ],
   "source": [
    "print('Перед нами данные с {} по {}.'.format(df['date_time'].min(),df['date_time'].max()))\n",
    "print('')\n",
    "print('Всего событий в логе {}.'.format(df['user_id'].count()))\n",
    "event_befor = df['user_id'].count()\n",
    "print('')\n",
    "print('Всего пользователей в логе {}.'.format(df['user_id'].nunique()))\n",
    "user_befor = df['user_id'].nunique()\n",
    "print('')\n",
    "\n",
    "# в среднем событий приходится на пользователя\n",
    "event_mean = round(df.groupby('user_id').agg({'event':'count'}).mean(),0)\n",
    "print('Количество событий на пользователя в среднем {}.'.format(event_mean))"
   ]
  },
  {
   "cell_type": "code",
   "execution_count": 16,
   "id": "00cfeb0e",
   "metadata": {},
   "outputs": [
    {
     "data": {
      "text/html": [
       "<div>\n",
       "<style scoped>\n",
       "    .dataframe tbody tr th:only-of-type {\n",
       "        vertical-align: middle;\n",
       "    }\n",
       "\n",
       "    .dataframe tbody tr th {\n",
       "        vertical-align: top;\n",
       "    }\n",
       "\n",
       "    .dataframe thead th {\n",
       "        text-align: right;\n",
       "    }\n",
       "</style>\n",
       "<table border=\"1\" class=\"dataframe\">\n",
       "  <thead>\n",
       "    <tr style=\"text-align: right;\">\n",
       "      <th></th>\n",
       "      <th>event</th>\n",
       "    </tr>\n",
       "  </thead>\n",
       "  <tbody>\n",
       "    <tr>\n",
       "      <th>count</th>\n",
       "      <td>7551.000000</td>\n",
       "    </tr>\n",
       "    <tr>\n",
       "      <th>mean</th>\n",
       "      <td>32.275593</td>\n",
       "    </tr>\n",
       "    <tr>\n",
       "      <th>std</th>\n",
       "      <td>65.154219</td>\n",
       "    </tr>\n",
       "    <tr>\n",
       "      <th>min</th>\n",
       "      <td>1.000000</td>\n",
       "    </tr>\n",
       "    <tr>\n",
       "      <th>25%</th>\n",
       "      <td>9.000000</td>\n",
       "    </tr>\n",
       "    <tr>\n",
       "      <th>50%</th>\n",
       "      <td>20.000000</td>\n",
       "    </tr>\n",
       "    <tr>\n",
       "      <th>75%</th>\n",
       "      <td>37.000000</td>\n",
       "    </tr>\n",
       "    <tr>\n",
       "      <th>max</th>\n",
       "      <td>2307.000000</td>\n",
       "    </tr>\n",
       "  </tbody>\n",
       "</table>\n",
       "</div>"
      ],
      "text/plain": [
       "             event\n",
       "count  7551.000000\n",
       "mean     32.275593\n",
       "std      65.154219\n",
       "min       1.000000\n",
       "25%       9.000000\n",
       "50%      20.000000\n",
       "75%      37.000000\n",
       "max    2307.000000"
      ]
     },
     "execution_count": 16,
     "metadata": {},
     "output_type": "execute_result"
    }
   ],
   "source": [
    "# распределение событий по пользователям\n",
    "event_mean = df.groupby('user_id').agg({'event':'count'})\n",
    "event_mean.describe()"
   ]
  },
  {
   "cell_type": "markdown",
   "id": "48cd6ad8",
   "metadata": {},
   "source": [
    "Среднее количество событий на пользователя составляет 32 события,\n",
    "\n",
    "при этом медиана 20 событий\n",
    "\n",
    "есть аномально большое кольчество событий на одного пользователя 2307"
   ]
  },
  {
   "cell_type": "markdown",
   "id": "4cfe0123",
   "metadata": {},
   "source": [
    "### Гистограмма событий по дате"
   ]
  },
  {
   "cell_type": "code",
   "execution_count": 17,
   "id": "a4165c35",
   "metadata": {},
   "outputs": [
    {
     "data": {
      "image/png": "[encoded data removed]",
      "text/plain": [
       "<Figure size 1700x700 with 1 Axes>"
      ]
     },
     "metadata": {},
     "output_type": "display_data"
    }
   ],
   "source": [
    "# гистограмма по дате и времени\n",
    "df['date_time'].hist(bins=200,figsize=(17, 7))\n",
    "plt.suptitle('Распределение событий по дате');"
   ]
  },
  {
   "cell_type": "markdown",
   "id": "5833224e",
   "metadata": {},
   "source": [
    "Данные за первую неделю практически отсутствуют, поэтому анализировать можно только вторую неделю.\n",
    "\n",
    "Возьмем период с 01 августа 2019 года"
   ]
  },
  {
   "cell_type": "markdown",
   "id": "9d5ec62c",
   "metadata": {},
   "source": [
    "### Очистка данных"
   ]
  },
  {
   "cell_type": "code",
   "execution_count": 18,
   "id": "e1824266",
   "metadata": {},
   "outputs": [
    {
     "data": {
      "image/png": "[encoded data removed]",
      "text/plain": [
       "<Figure size 1700x700 with 1 Axes>"
      ]
     },
     "metadata": {},
     "output_type": "display_data"
    }
   ],
   "source": [
    "# отбросим данные за июль\n",
    "df = df[df['date_time']>='2019-08-01']\n",
    "df['date_time'].hist(bins=200,figsize=(17, 7))\n",
    "plt.suptitle('Распределение событий по дате');"
   ]
  },
  {
   "cell_type": "markdown",
   "id": "3b21c943",
   "metadata": {},
   "source": [
    "Получили период полных данных\n",
    "\n",
    "Видно, что активность пользователей максимальна днем и падает в ночной период\n",
    "\n",
    "Проверим количество пользователей после оптимизации данных"
   ]
  },
  {
   "cell_type": "code",
   "execution_count": 19,
   "id": "259d1c34",
   "metadata": {},
   "outputs": [
    {
     "name": "stdout",
     "output_type": "stream",
     "text": [
      "Перед нами данные с 2019-08-01 00:07:28 по 2019-08-07 21:15:17.\n",
      "\n",
      "Всего событий в логе 240887.\n",
      "\n",
      "Всего пользователей в логе 7534.\n",
      "\n",
      "Количество событий удаленных из данных 2826, (-1.16%).\n",
      "\n",
      "Количество пользователей удаленных из данных 17, (-0.23%).\n"
     ]
    }
   ],
   "source": [
    "print('Перед нами данные с {} по {}.'.format(df['date_time'].min(),df['date_time'].max()))\n",
    "print('')\n",
    "print('Всего событий в логе {}.'.format(df['user_id'].count()))\n",
    "print('')\n",
    "print('Всего пользователей в логе {}.'.format(df['user_id'].nunique()))\n",
    "print('')\n",
    "print('Количество событий удаленных из данных {}, ({:.2%}).'.format(event_befor-df['user_id'].count(),\n",
    "        (df['user_id'].count()/event_befor-1)))\n",
    "print('')\n",
    "print('Количество пользователей удаленных из данных {}, ({:.2%}).'.format(user_befor-df['user_id'].nunique(),\n",
    "        (df['user_id'].nunique()/user_befor-1)))"
   ]
  },
  {
   "cell_type": "markdown",
   "id": "1ab1f966",
   "metadata": {},
   "source": [
    "### Распределение пользователей по группам после очистки данных"
   ]
  },
  {
   "cell_type": "code",
   "execution_count": 20,
   "id": "91da7755",
   "metadata": {},
   "outputs": [
    {
     "data": {
      "text/plain": [
       "3"
      ]
     },
     "execution_count": 20,
     "metadata": {},
     "output_type": "execute_result"
    }
   ],
   "source": [
    "# распределены ли пользователи по всем трем группам\n",
    "df['group'].nunique()"
   ]
  },
  {
   "cell_type": "code",
   "execution_count": 21,
   "id": "20831555",
   "metadata": {},
   "outputs": [
    {
     "data": {
      "text/html": [
       "<div>\n",
       "<style scoped>\n",
       "    .dataframe tbody tr th:only-of-type {\n",
       "        vertical-align: middle;\n",
       "    }\n",
       "\n",
       "    .dataframe tbody tr th {\n",
       "        vertical-align: top;\n",
       "    }\n",
       "\n",
       "    .dataframe thead th {\n",
       "        text-align: right;\n",
       "    }\n",
       "</style>\n",
       "<table border=\"1\" class=\"dataframe\">\n",
       "  <thead>\n",
       "    <tr style=\"text-align: right;\">\n",
       "      <th></th>\n",
       "      <th>count_users</th>\n",
       "    </tr>\n",
       "    <tr>\n",
       "      <th>group</th>\n",
       "      <th></th>\n",
       "    </tr>\n",
       "  </thead>\n",
       "  <tbody>\n",
       "    <tr>\n",
       "      <th>246</th>\n",
       "      <td>2484</td>\n",
       "    </tr>\n",
       "    <tr>\n",
       "      <th>247</th>\n",
       "      <td>2513</td>\n",
       "    </tr>\n",
       "    <tr>\n",
       "      <th>248</th>\n",
       "      <td>2537</td>\n",
       "    </tr>\n",
       "  </tbody>\n",
       "</table>\n",
       "</div>"
      ],
      "text/plain": [
       "       count_users\n",
       "group             \n",
       "246           2484\n",
       "247           2513\n",
       "248           2537"
      ]
     },
     "execution_count": 21,
     "metadata": {},
     "output_type": "execute_result"
    }
   ],
   "source": [
    "df.groupby('group').agg({'user_id': 'nunique'}).rename(columns={'user_id':'count_users'})"
   ]
  },
  {
   "cell_type": "markdown",
   "id": "ef3cc218",
   "metadata": {},
   "source": [
    "Пользователи распределены по всем трем группам, распределение равномерное"
   ]
  },
  {
   "cell_type": "markdown",
   "id": "b1c02da3",
   "metadata": {},
   "source": [
    "### Вывод"
   ]
  },
  {
   "cell_type": "markdown",
   "id": "170fecba",
   "metadata": {},
   "source": [
    "До очистки данных событий в логе 243713, а пользователей в логе 7551.\n",
    "\n",
    "Количество событий на пользователя в среднем event    32.0\n",
    "\n",
    "После очистки неполных данных осталось событий в логе 240887, а пользователей в логе 7534.\n",
    "\n",
    "Потери данных не значительны\n",
    "\n",
    "Распределение пользователей по группам равномерно"
   ]
  },
  {
   "cell_type": "markdown",
   "id": "2f1848ce",
   "metadata": {},
   "source": [
    "## Изучим воронку событий"
   ]
  },
  {
   "cell_type": "markdown",
   "id": "17b37e1d",
   "metadata": {},
   "source": [
    "Какие события есть в логах, как часто они встречаются. Отсортируйте события по частоте."
   ]
  },
  {
   "cell_type": "markdown",
   "id": "d8b7d0c7",
   "metadata": {},
   "source": [
    "### События в логах"
   ]
  },
  {
   "cell_type": "code",
   "execution_count": 22,
   "id": "8b1cf872",
   "metadata": {},
   "outputs": [
    {
     "data": {
      "text/html": [
       "<div>\n",
       "<style scoped>\n",
       "    .dataframe tbody tr th:only-of-type {\n",
       "        vertical-align: middle;\n",
       "    }\n",
       "\n",
       "    .dataframe tbody tr th {\n",
       "        vertical-align: top;\n",
       "    }\n",
       "\n",
       "    .dataframe thead th {\n",
       "        text-align: right;\n",
       "    }\n",
       "</style>\n",
       "<table border=\"1\" class=\"dataframe\">\n",
       "  <thead>\n",
       "    <tr style=\"text-align: right;\">\n",
       "      <th></th>\n",
       "      <th>event</th>\n",
       "      <th>user_id</th>\n",
       "      <th>date_time</th>\n",
       "      <th>group</th>\n",
       "      <th>date</th>\n",
       "    </tr>\n",
       "  </thead>\n",
       "  <tbody>\n",
       "    <tr>\n",
       "      <th>2826</th>\n",
       "      <td>Tutorial</td>\n",
       "      <td>3737462046622621720</td>\n",
       "      <td>2019-08-01 00:07:28</td>\n",
       "      <td>246</td>\n",
       "      <td>2019-08-01</td>\n",
       "    </tr>\n",
       "    <tr>\n",
       "      <th>2827</th>\n",
       "      <td>MainScreenAppear</td>\n",
       "      <td>3737462046622621720</td>\n",
       "      <td>2019-08-01 00:08:00</td>\n",
       "      <td>246</td>\n",
       "      <td>2019-08-01</td>\n",
       "    </tr>\n",
       "  </tbody>\n",
       "</table>\n",
       "</div>"
      ],
      "text/plain": [
       "                 event              user_id           date_time  group  \\\n",
       "2826          Tutorial  3737462046622621720 2019-08-01 00:07:28    246   \n",
       "2827  MainScreenAppear  3737462046622621720 2019-08-01 00:08:00    246   \n",
       "\n",
       "           date  \n",
       "2826 2019-08-01  \n",
       "2827 2019-08-01  "
      ]
     },
     "execution_count": 22,
     "metadata": {},
     "output_type": "execute_result"
    }
   ],
   "source": [
    "df.head(2)"
   ]
  },
  {
   "cell_type": "code",
   "execution_count": 23,
   "id": "710a4bc5",
   "metadata": {
    "scrolled": true
   },
   "outputs": [
    {
     "data": {
      "text/html": [
       "<div>\n",
       "<style scoped>\n",
       "    .dataframe tbody tr th:only-of-type {\n",
       "        vertical-align: middle;\n",
       "    }\n",
       "\n",
       "    .dataframe tbody tr th {\n",
       "        vertical-align: top;\n",
       "    }\n",
       "\n",
       "    .dataframe thead th {\n",
       "        text-align: right;\n",
       "    }\n",
       "</style>\n",
       "<table border=\"1\" class=\"dataframe\">\n",
       "  <thead>\n",
       "    <tr style=\"text-align: right;\">\n",
       "      <th></th>\n",
       "      <th>user_id</th>\n",
       "    </tr>\n",
       "    <tr>\n",
       "      <th>event</th>\n",
       "      <th></th>\n",
       "    </tr>\n",
       "  </thead>\n",
       "  <tbody>\n",
       "    <tr>\n",
       "      <th>MainScreenAppear</th>\n",
       "      <td>117328</td>\n",
       "    </tr>\n",
       "    <tr>\n",
       "      <th>OffersScreenAppear</th>\n",
       "      <td>46333</td>\n",
       "    </tr>\n",
       "    <tr>\n",
       "      <th>CartScreenAppear</th>\n",
       "      <td>42303</td>\n",
       "    </tr>\n",
       "    <tr>\n",
       "      <th>PaymentScreenSuccessful</th>\n",
       "      <td>33918</td>\n",
       "    </tr>\n",
       "    <tr>\n",
       "      <th>Tutorial</th>\n",
       "      <td>1005</td>\n",
       "    </tr>\n",
       "  </tbody>\n",
       "</table>\n",
       "</div>"
      ],
      "text/plain": [
       "                         user_id\n",
       "event                           \n",
       "MainScreenAppear          117328\n",
       "OffersScreenAppear         46333\n",
       "CartScreenAppear           42303\n",
       "PaymentScreenSuccessful    33918\n",
       "Tutorial                    1005"
      ]
     },
     "execution_count": 23,
     "metadata": {},
     "output_type": "execute_result"
    }
   ],
   "source": [
    "event_count = df.groupby('event').agg({'user_id':'count'}).sort_values(by='user_id',\n",
    "                                                                       ascending=False)\n",
    "event_count"
   ]
  },
  {
   "cell_type": "code",
   "execution_count": 24,
   "id": "0fab6e4e",
   "metadata": {},
   "outputs": [
    {
     "data": {
      "image/png": "[encoded data removed]",
      "text/plain": [
       "<Figure size 1900x600 with 1 Axes>"
      ]
     },
     "metadata": {},
     "output_type": "display_data"
    }
   ],
   "source": [
    "event_count.plot(kind = 'barh', figsize = (19,6), legend = False, fontsize = 16, color = 'pink')\n",
    "plt.title('События',size = (26));"
   ]
  },
  {
   "cell_type": "markdown",
   "id": "cc5880ff",
   "metadata": {},
   "source": [
    "В логе представлено пять вариантов событий:\n",
    "\n",
    "MainScreenAppear - главный экран 117328 событий\n",
    "\n",
    "OffersScreenAppear - экран с продуктами 46333 событий\n",
    "\n",
    "CartScreenAppear - экран с корзиной 42303 событий\n",
    "\n",
    "PaymentScreenSuccessful - экран с подтверждением оплаты 33918 событий\n",
    "\n",
    "Tutorial - экран с обучением 1005 событий"
   ]
  },
  {
   "cell_type": "markdown",
   "id": "a9abaf77",
   "metadata": {},
   "source": [
    "### События и пользователи"
   ]
  },
  {
   "cell_type": "markdown",
   "id": "d64ea1a0",
   "metadata": {},
   "source": [
    "Посчитайте, сколько пользователей совершали каждое из этих событий. \n",
    "\n",
    "Отсортируйте события по числу пользователей. \n",
    "\n",
    "Посчитайте долю пользователей, которые хоть раз совершали событие."
   ]
  },
  {
   "cell_type": "code",
   "execution_count": 25,
   "id": "f28e4626",
   "metadata": {},
   "outputs": [
    {
     "data": {
      "text/html": [
       "<div>\n",
       "<style scoped>\n",
       "    .dataframe tbody tr th:only-of-type {\n",
       "        vertical-align: middle;\n",
       "    }\n",
       "\n",
       "    .dataframe tbody tr th {\n",
       "        vertical-align: top;\n",
       "    }\n",
       "\n",
       "    .dataframe thead th {\n",
       "        text-align: right;\n",
       "    }\n",
       "</style>\n",
       "<table border=\"1\" class=\"dataframe\">\n",
       "  <thead>\n",
       "    <tr style=\"text-align: right;\">\n",
       "      <th></th>\n",
       "      <th>event</th>\n",
       "      <th>user_id</th>\n",
       "      <th>date_time</th>\n",
       "      <th>group</th>\n",
       "      <th>date</th>\n",
       "    </tr>\n",
       "  </thead>\n",
       "  <tbody>\n",
       "    <tr>\n",
       "      <th>2826</th>\n",
       "      <td>Tutorial</td>\n",
       "      <td>3737462046622621720</td>\n",
       "      <td>2019-08-01 00:07:28</td>\n",
       "      <td>246</td>\n",
       "      <td>2019-08-01</td>\n",
       "    </tr>\n",
       "    <tr>\n",
       "      <th>2827</th>\n",
       "      <td>MainScreenAppear</td>\n",
       "      <td>3737462046622621720</td>\n",
       "      <td>2019-08-01 00:08:00</td>\n",
       "      <td>246</td>\n",
       "      <td>2019-08-01</td>\n",
       "    </tr>\n",
       "  </tbody>\n",
       "</table>\n",
       "</div>"
      ],
      "text/plain": [
       "                 event              user_id           date_time  group  \\\n",
       "2826          Tutorial  3737462046622621720 2019-08-01 00:07:28    246   \n",
       "2827  MainScreenAppear  3737462046622621720 2019-08-01 00:08:00    246   \n",
       "\n",
       "           date  \n",
       "2826 2019-08-01  \n",
       "2827 2019-08-01  "
      ]
     },
     "execution_count": 25,
     "metadata": {},
     "output_type": "execute_result"
    }
   ],
   "source": [
    "df.head(2)"
   ]
  },
  {
   "cell_type": "code",
   "execution_count": 26,
   "id": "c06a8b3b",
   "metadata": {
    "scrolled": true
   },
   "outputs": [
    {
     "data": {
      "text/html": [
       "<div>\n",
       "<style scoped>\n",
       "    .dataframe tbody tr th:only-of-type {\n",
       "        vertical-align: middle;\n",
       "    }\n",
       "\n",
       "    .dataframe tbody tr th {\n",
       "        vertical-align: top;\n",
       "    }\n",
       "\n",
       "    .dataframe thead th {\n",
       "        text-align: right;\n",
       "    }\n",
       "</style>\n",
       "<table border=\"1\" class=\"dataframe\">\n",
       "  <thead>\n",
       "    <tr style=\"text-align: right;\">\n",
       "      <th></th>\n",
       "      <th>users</th>\n",
       "    </tr>\n",
       "    <tr>\n",
       "      <th>event</th>\n",
       "      <th></th>\n",
       "    </tr>\n",
       "  </thead>\n",
       "  <tbody>\n",
       "    <tr>\n",
       "      <th>MainScreenAppear</th>\n",
       "      <td>7419</td>\n",
       "    </tr>\n",
       "    <tr>\n",
       "      <th>OffersScreenAppear</th>\n",
       "      <td>4593</td>\n",
       "    </tr>\n",
       "    <tr>\n",
       "      <th>CartScreenAppear</th>\n",
       "      <td>3734</td>\n",
       "    </tr>\n",
       "    <tr>\n",
       "      <th>PaymentScreenSuccessful</th>\n",
       "      <td>3539</td>\n",
       "    </tr>\n",
       "    <tr>\n",
       "      <th>Tutorial</th>\n",
       "      <td>840</td>\n",
       "    </tr>\n",
       "  </tbody>\n",
       "</table>\n",
       "</div>"
      ],
      "text/plain": [
       "                         users\n",
       "event                         \n",
       "MainScreenAppear          7419\n",
       "OffersScreenAppear        4593\n",
       "CartScreenAppear          3734\n",
       "PaymentScreenSuccessful   3539\n",
       "Tutorial                   840"
      ]
     },
     "execution_count": 26,
     "metadata": {},
     "output_type": "execute_result"
    }
   ],
   "source": [
    "users_count = df.groupby('event').agg({'user_id':'nunique'}\n",
    "                       ).rename(columns={'user_id' : 'users'}\n",
    "                               ).sort_values(by='users',ascending=False)\n",
    "users_count"
   ]
  },
  {
   "cell_type": "code",
   "execution_count": 27,
   "id": "3d92cde5",
   "metadata": {},
   "outputs": [],
   "source": [
    "users_count['per'] = round(users_count['users']/df['user_id'].nunique(),2)*100"
   ]
  },
  {
   "cell_type": "code",
   "execution_count": 28,
   "id": "58d64d73",
   "metadata": {},
   "outputs": [
    {
     "data": {
      "text/html": [
       "<div>\n",
       "<style scoped>\n",
       "    .dataframe tbody tr th:only-of-type {\n",
       "        vertical-align: middle;\n",
       "    }\n",
       "\n",
       "    .dataframe tbody tr th {\n",
       "        vertical-align: top;\n",
       "    }\n",
       "\n",
       "    .dataframe thead th {\n",
       "        text-align: right;\n",
       "    }\n",
       "</style>\n",
       "<table border=\"1\" class=\"dataframe\">\n",
       "  <thead>\n",
       "    <tr style=\"text-align: right;\">\n",
       "      <th></th>\n",
       "      <th>users</th>\n",
       "      <th>per</th>\n",
       "    </tr>\n",
       "    <tr>\n",
       "      <th>event</th>\n",
       "      <th></th>\n",
       "      <th></th>\n",
       "    </tr>\n",
       "  </thead>\n",
       "  <tbody>\n",
       "    <tr>\n",
       "      <th>MainScreenAppear</th>\n",
       "      <td>7419</td>\n",
       "      <td>98.0</td>\n",
       "    </tr>\n",
       "    <tr>\n",
       "      <th>OffersScreenAppear</th>\n",
       "      <td>4593</td>\n",
       "      <td>61.0</td>\n",
       "    </tr>\n",
       "    <tr>\n",
       "      <th>CartScreenAppear</th>\n",
       "      <td>3734</td>\n",
       "      <td>50.0</td>\n",
       "    </tr>\n",
       "    <tr>\n",
       "      <th>PaymentScreenSuccessful</th>\n",
       "      <td>3539</td>\n",
       "      <td>47.0</td>\n",
       "    </tr>\n",
       "    <tr>\n",
       "      <th>Tutorial</th>\n",
       "      <td>840</td>\n",
       "      <td>11.0</td>\n",
       "    </tr>\n",
       "  </tbody>\n",
       "</table>\n",
       "</div>"
      ],
      "text/plain": [
       "                         users   per\n",
       "event                               \n",
       "MainScreenAppear          7419  98.0\n",
       "OffersScreenAppear        4593  61.0\n",
       "CartScreenAppear          3734  50.0\n",
       "PaymentScreenSuccessful   3539  47.0\n",
       "Tutorial                   840  11.0"
      ]
     },
     "execution_count": 28,
     "metadata": {},
     "output_type": "execute_result"
    }
   ],
   "source": [
    "users_count"
   ]
  },
  {
   "cell_type": "markdown",
   "id": "a84e53f3",
   "metadata": {},
   "source": [
    "Предположим порядок событий\n",
    "\n",
    "MainScreenAppear --> OffersScreenAppear --> CartScreenAppear --> PaymentScreenSuccessful\n",
    "\n",
    "Событие Tutorial мало и не входит в цепочку событий. Предположу, что обучение можно пройти не посещая корзину и оплату. Для воронки событий уберем из расчетов Tutorial.\n",
    "\n",
    "Первое событие MainScreenAppear совершает 98% пользователей, по данным лога. Посмотрев поведение пользователей пропустивших первое событие, видно, что можно зайти сразу на карточку товара и даже совершить покупку, не посещая последовательно все события. Скорее всего магазин размещает так баннеры, где после клика можно сразу оплатить товар или попасть на страницу товара."
   ]
  },
  {
   "cell_type": "markdown",
   "id": "a0e5f87e",
   "metadata": {},
   "source": [
    "### Воронка событий"
   ]
  },
  {
   "cell_type": "markdown",
   "id": "307f93a4",
   "metadata": {},
   "source": [
    "По воронке событий посчитайте, какая доля пользователей проходит на следующий шаг воронки (от числа пользователей на предыдущем). "
   ]
  },
  {
   "cell_type": "code",
   "execution_count": 29,
   "id": "6d88750d",
   "metadata": {},
   "outputs": [
    {
     "data": {
      "text/html": [
       "<div>\n",
       "<style scoped>\n",
       "    .dataframe tbody tr th:only-of-type {\n",
       "        vertical-align: middle;\n",
       "    }\n",
       "\n",
       "    .dataframe tbody tr th {\n",
       "        vertical-align: top;\n",
       "    }\n",
       "\n",
       "    .dataframe thead th {\n",
       "        text-align: right;\n",
       "    }\n",
       "</style>\n",
       "<table border=\"1\" class=\"dataframe\">\n",
       "  <thead>\n",
       "    <tr style=\"text-align: right;\">\n",
       "      <th>event</th>\n",
       "      <th>CartScreenAppear</th>\n",
       "      <th>MainScreenAppear</th>\n",
       "      <th>OffersScreenAppear</th>\n",
       "      <th>PaymentScreenSuccessful</th>\n",
       "    </tr>\n",
       "    <tr>\n",
       "      <th>user_id</th>\n",
       "      <th></th>\n",
       "      <th></th>\n",
       "      <th></th>\n",
       "      <th></th>\n",
       "    </tr>\n",
       "  </thead>\n",
       "  <tbody>\n",
       "    <tr>\n",
       "      <th>6888746892508752</th>\n",
       "      <td>NaT</td>\n",
       "      <td>2019-08-06 14:06:34</td>\n",
       "      <td>NaT</td>\n",
       "      <td>NaT</td>\n",
       "    </tr>\n",
       "    <tr>\n",
       "      <th>6909561520679493</th>\n",
       "      <td>2019-08-06 18:52:58</td>\n",
       "      <td>2019-08-06 18:52:54</td>\n",
       "      <td>2019-08-06 18:53:04</td>\n",
       "      <td>2019-08-06 18:52:58</td>\n",
       "    </tr>\n",
       "    <tr>\n",
       "      <th>6922444491712477</th>\n",
       "      <td>2019-08-04 14:19:40</td>\n",
       "      <td>2019-08-04 14:19:33</td>\n",
       "      <td>2019-08-04 14:19:46</td>\n",
       "      <td>2019-08-04 14:19:40</td>\n",
       "    </tr>\n",
       "    <tr>\n",
       "      <th>7435777799948366</th>\n",
       "      <td>NaT</td>\n",
       "      <td>2019-08-05 08:06:34</td>\n",
       "      <td>NaT</td>\n",
       "      <td>NaT</td>\n",
       "    </tr>\n",
       "    <tr>\n",
       "      <th>7702139951469979</th>\n",
       "      <td>2019-08-02 14:28:45</td>\n",
       "      <td>2019-08-01 04:29:54</td>\n",
       "      <td>2019-08-01 04:29:56</td>\n",
       "      <td>2019-08-02 14:28:45</td>\n",
       "    </tr>\n",
       "    <tr>\n",
       "      <th>...</th>\n",
       "      <td>...</td>\n",
       "      <td>...</td>\n",
       "      <td>...</td>\n",
       "      <td>...</td>\n",
       "    </tr>\n",
       "    <tr>\n",
       "      <th>9217594193087726423</th>\n",
       "      <td>2019-08-02 09:00:58</td>\n",
       "      <td>NaT</td>\n",
       "      <td>2019-08-02 09:01:08</td>\n",
       "      <td>2019-08-02 09:00:57</td>\n",
       "    </tr>\n",
       "    <tr>\n",
       "      <th>9219463515465815368</th>\n",
       "      <td>2019-08-06 16:49:40</td>\n",
       "      <td>2019-08-05 05:26:26</td>\n",
       "      <td>2019-08-06 16:48:57</td>\n",
       "      <td>2019-08-06 16:52:16</td>\n",
       "    </tr>\n",
       "    <tr>\n",
       "      <th>9220879493065341500</th>\n",
       "      <td>2019-08-02 17:59:16</td>\n",
       "      <td>2019-08-02 17:58:48</td>\n",
       "      <td>2019-08-02 17:59:00</td>\n",
       "      <td>NaT</td>\n",
       "    </tr>\n",
       "    <tr>\n",
       "      <th>9221926045299980007</th>\n",
       "      <td>NaT</td>\n",
       "      <td>2019-08-01 17:30:27</td>\n",
       "      <td>NaT</td>\n",
       "      <td>NaT</td>\n",
       "    </tr>\n",
       "    <tr>\n",
       "      <th>9222603179720523844</th>\n",
       "      <td>NaT</td>\n",
       "      <td>2019-08-01 06:52:13</td>\n",
       "      <td>NaT</td>\n",
       "      <td>NaT</td>\n",
       "    </tr>\n",
       "  </tbody>\n",
       "</table>\n",
       "<p>7530 rows × 4 columns</p>\n",
       "</div>"
      ],
      "text/plain": [
       "event                  CartScreenAppear    MainScreenAppear  \\\n",
       "user_id                                                       \n",
       "6888746892508752                    NaT 2019-08-06 14:06:34   \n",
       "6909561520679493    2019-08-06 18:52:58 2019-08-06 18:52:54   \n",
       "6922444491712477    2019-08-04 14:19:40 2019-08-04 14:19:33   \n",
       "7435777799948366                    NaT 2019-08-05 08:06:34   \n",
       "7702139951469979    2019-08-02 14:28:45 2019-08-01 04:29:54   \n",
       "...                                 ...                 ...   \n",
       "9217594193087726423 2019-08-02 09:00:58                 NaT   \n",
       "9219463515465815368 2019-08-06 16:49:40 2019-08-05 05:26:26   \n",
       "9220879493065341500 2019-08-02 17:59:16 2019-08-02 17:58:48   \n",
       "9221926045299980007                 NaT 2019-08-01 17:30:27   \n",
       "9222603179720523844                 NaT 2019-08-01 06:52:13   \n",
       "\n",
       "event                OffersScreenAppear PaymentScreenSuccessful  \n",
       "user_id                                                          \n",
       "6888746892508752                    NaT                     NaT  \n",
       "6909561520679493    2019-08-06 18:53:04     2019-08-06 18:52:58  \n",
       "6922444491712477    2019-08-04 14:19:46     2019-08-04 14:19:40  \n",
       "7435777799948366                    NaT                     NaT  \n",
       "7702139951469979    2019-08-01 04:29:56     2019-08-02 14:28:45  \n",
       "...                                 ...                     ...  \n",
       "9217594193087726423 2019-08-02 09:01:08     2019-08-02 09:00:57  \n",
       "9219463515465815368 2019-08-06 16:48:57     2019-08-06 16:52:16  \n",
       "9220879493065341500 2019-08-02 17:59:00                     NaT  \n",
       "9221926045299980007                 NaT                     NaT  \n",
       "9222603179720523844                 NaT                     NaT  \n",
       "\n",
       "[7530 rows x 4 columns]"
      ]
     },
     "execution_count": 29,
     "metadata": {},
     "output_type": "execute_result"
    }
   ],
   "source": [
    "users_pt = df[df['event'] != 'Tutorial'].pivot_table(\n",
    "    index='user_id', \n",
    "    columns='event', \n",
    "    values='date_time',\n",
    "    aggfunc='min')\n",
    "users_pt"
   ]
  },
  {
   "cell_type": "code",
   "execution_count": 30,
   "id": "616868cf",
   "metadata": {},
   "outputs": [
    {
     "data": {
      "text/html": [
       "<div>\n",
       "<style scoped>\n",
       "    .dataframe tbody tr th:only-of-type {\n",
       "        vertical-align: middle;\n",
       "    }\n",
       "\n",
       "    .dataframe tbody tr th {\n",
       "        vertical-align: top;\n",
       "    }\n",
       "\n",
       "    .dataframe thead th {\n",
       "        text-align: right;\n",
       "    }\n",
       "</style>\n",
       "<table border=\"1\" class=\"dataframe\">\n",
       "  <thead>\n",
       "    <tr style=\"text-align: right;\">\n",
       "      <th></th>\n",
       "      <th>users</th>\n",
       "      <th>per</th>\n",
       "    </tr>\n",
       "    <tr>\n",
       "      <th>event</th>\n",
       "      <th></th>\n",
       "      <th></th>\n",
       "    </tr>\n",
       "  </thead>\n",
       "  <tbody>\n",
       "    <tr>\n",
       "      <th>MainScreenAppear</th>\n",
       "      <td>7419</td>\n",
       "      <td>98.0</td>\n",
       "    </tr>\n",
       "    <tr>\n",
       "      <th>OffersScreenAppear</th>\n",
       "      <td>4593</td>\n",
       "      <td>61.0</td>\n",
       "    </tr>\n",
       "    <tr>\n",
       "      <th>CartScreenAppear</th>\n",
       "      <td>3734</td>\n",
       "      <td>50.0</td>\n",
       "    </tr>\n",
       "    <tr>\n",
       "      <th>PaymentScreenSuccessful</th>\n",
       "      <td>3539</td>\n",
       "      <td>47.0</td>\n",
       "    </tr>\n",
       "    <tr>\n",
       "      <th>Tutorial</th>\n",
       "      <td>840</td>\n",
       "      <td>11.0</td>\n",
       "    </tr>\n",
       "  </tbody>\n",
       "</table>\n",
       "</div>"
      ],
      "text/plain": [
       "                         users   per\n",
       "event                               \n",
       "MainScreenAppear          7419  98.0\n",
       "OffersScreenAppear        4593  61.0\n",
       "CartScreenAppear          3734  50.0\n",
       "PaymentScreenSuccessful   3539  47.0\n",
       "Tutorial                   840  11.0"
      ]
     },
     "execution_count": 30,
     "metadata": {},
     "output_type": "execute_result"
    }
   ],
   "source": [
    "users_count"
   ]
  },
  {
   "cell_type": "code",
   "execution_count": 31,
   "id": "e2bd8b91",
   "metadata": {},
   "outputs": [
    {
     "data": {
      "text/html": [
       "<div>\n",
       "<style scoped>\n",
       "    .dataframe tbody tr th:only-of-type {\n",
       "        vertical-align: middle;\n",
       "    }\n",
       "\n",
       "    .dataframe tbody tr th {\n",
       "        vertical-align: top;\n",
       "    }\n",
       "\n",
       "    .dataframe thead th {\n",
       "        text-align: right;\n",
       "    }\n",
       "</style>\n",
       "<table border=\"1\" class=\"dataframe\">\n",
       "  <thead>\n",
       "    <tr style=\"text-align: right;\">\n",
       "      <th></th>\n",
       "      <th>event</th>\n",
       "      <th>users</th>\n",
       "      <th>per</th>\n",
       "      <th>funnel %</th>\n",
       "    </tr>\n",
       "  </thead>\n",
       "  <tbody>\n",
       "    <tr>\n",
       "      <th>0</th>\n",
       "      <td>MainScreenAppear</td>\n",
       "      <td>7419</td>\n",
       "      <td>98.0</td>\n",
       "      <td>100.0</td>\n",
       "    </tr>\n",
       "    <tr>\n",
       "      <th>1</th>\n",
       "      <td>OffersScreenAppear</td>\n",
       "      <td>4593</td>\n",
       "      <td>61.0</td>\n",
       "      <td>61.9</td>\n",
       "    </tr>\n",
       "    <tr>\n",
       "      <th>2</th>\n",
       "      <td>CartScreenAppear</td>\n",
       "      <td>3734</td>\n",
       "      <td>50.0</td>\n",
       "      <td>81.3</td>\n",
       "    </tr>\n",
       "    <tr>\n",
       "      <th>3</th>\n",
       "      <td>PaymentScreenSuccessful</td>\n",
       "      <td>3539</td>\n",
       "      <td>47.0</td>\n",
       "      <td>94.8</td>\n",
       "    </tr>\n",
       "  </tbody>\n",
       "</table>\n",
       "</div>"
      ],
      "text/plain": [
       "                     event  users   per  funnel %\n",
       "0         MainScreenAppear   7419  98.0     100.0\n",
       "1       OffersScreenAppear   4593  61.0      61.9\n",
       "2         CartScreenAppear   3734  50.0      81.3\n",
       "3  PaymentScreenSuccessful   3539  47.0      94.8"
      ]
     },
     "execution_count": 31,
     "metadata": {},
     "output_type": "execute_result"
    }
   ],
   "source": [
    "users_count['funnel %'] = round(users_count['users']/users_count['users']\n",
    "                                 .shift(1,fill_value=7419)*100,1)\n",
    "users_count = users_count.reset_index().drop(4)\n",
    "\n",
    "users_count"
   ]
  },
  {
   "cell_type": "code",
   "execution_count": 32,
   "id": "48e03be6",
   "metadata": {
    "scrolled": true
   },
   "outputs": [
    {
     "name": "stdout",
     "output_type": "stream",
     "text": [
      "Посетителей на главной странице: (100.0%)\n",
      " \n",
      "Посмотрели экран с продуктами в % от предыдущего шага: (61.9%)\n",
      " \n",
      "Посмотрели экран с корзиной в % от предыдущего шага: (81.3%)\n",
      " \n",
      "Оплатили в % от предыдущего шага: (94.8%)\n"
     ]
    }
   ],
   "source": [
    "print('Посетителей на главной странице:', \n",
    "      '({:.1%})'.format(users_pt['MainScreenAppear'].count()/users_pt['MainScreenAppear'].count()))\n",
    "print(' ')\n",
    "print('Посмотрели экран с продуктами в % от предыдущего шага:', \n",
    "      '({:.1%})'.format(users_pt['OffersScreenAppear'].count()/users_pt['MainScreenAppear'].count()))\n",
    "print(' ')\n",
    "print('Посмотрели экран с корзиной в % от предыдущего шага:', \n",
    "      '({:.1%})'.format(users_pt['CartScreenAppear'].count()/users_pt['OffersScreenAppear'].count()))\n",
    "print(' ')\n",
    "print('Оплатили в % от предыдущего шага:',\n",
    "      '({:.1%})'.format(users_pt['PaymentScreenSuccessful'].count()/users_pt['CartScreenAppear'].count()))"
   ]
  },
  {
   "cell_type": "markdown",
   "id": "fccbaaf7",
   "metadata": {},
   "source": [
    "Потеря на втором шаге очень большая 39%\n",
    "\n",
    "Стоит отметить, что посетители могут купить товар с главной страницы, не просматривая экран продукта,\n",
    "\n",
    "вероятно это дает большую потерю\n",
    "\n",
    "Так же интересен, например пользователь 9217594193087726423, который сначала купил продукт, потом зашел в корзину и затем на экран товара, не посещая главную страницу\n"
   ]
  },
  {
   "cell_type": "code",
   "execution_count": 33,
   "id": "3cbc6ece",
   "metadata": {},
   "outputs": [
    {
     "name": "stdout",
     "output_type": "stream",
     "text": [
      "Доля пользователей от посещения главной страницы к оплате : (47.7%)\n"
     ]
    }
   ],
   "source": [
    "print('Доля пользователей от посещения главной страницы к оплате :',\n",
    "      '({:.1%})'.format(users_pt['PaymentScreenSuccessful'].count()/users_pt['MainScreenAppear'].count()))"
   ]
  },
  {
   "cell_type": "markdown",
   "id": "efb6dc02",
   "metadata": {},
   "source": [
    "### Вывод"
   ]
  },
  {
   "cell_type": "markdown",
   "id": "7f03ac21",
   "metadata": {},
   "source": [
    "В логе представлено пять вариантов событий:\n",
    "\n",
    "OffersScreenAppear - экран с продуктами 46333 событий и 4593 пользователя\n",
    "\n",
    "CartScreenAppear - экран с корзиной 42303 событий и 3734 пользователя\n",
    "\n",
    "PaymentScreenSuccessful - экран с подтверждением оплаты 33918 событий и 3539 пользователя\n",
    "\n",
    "Tutorial - экран с обучением 1005 событий и 840 пользователя\n",
    "\n",
    "Воронка событий выглядит следующим образом:\n",
    "\n",
    "Посетителей на главной странице: (100.0%)\n",
    " \n",
    "Посмотрели экран с продуктами в % от предыдущего шага: (61.9%)\n",
    " \n",
    "Посмотрели экран с корзиной в % от предыдущего шага: (81.3%)\n",
    " \n",
    "Оплатили в % от предыдущего шага: (94.8%)\n",
    "\n",
    "Можно отметить, что пользователи, которые положили товар в корзину, купят товар с высокой долей вероятности.\n",
    "\n",
    "Стоит посмотреть причину потери пользователей на втором шаге (тех.проблемы с переходом на страницу,\n",
    "рекламируется товар больше, чем главная страница...)"
   ]
  },
  {
   "cell_type": "markdown",
   "id": "dc1c8c0f",
   "metadata": {},
   "source": [
    "## Изучим результаты эксперимента"
   ]
  },
  {
   "cell_type": "markdown",
   "id": "5b9c3ee0",
   "metadata": {},
   "source": [
    "Сколько пользователей в каждой экспериментальной группе"
   ]
  },
  {
   "cell_type": "code",
   "execution_count": 34,
   "id": "b7beec96",
   "metadata": {},
   "outputs": [
    {
     "data": {
      "text/html": [
       "<div>\n",
       "<style scoped>\n",
       "    .dataframe tbody tr th:only-of-type {\n",
       "        vertical-align: middle;\n",
       "    }\n",
       "\n",
       "    .dataframe tbody tr th {\n",
       "        vertical-align: top;\n",
       "    }\n",
       "\n",
       "    .dataframe thead th {\n",
       "        text-align: right;\n",
       "    }\n",
       "</style>\n",
       "<table border=\"1\" class=\"dataframe\">\n",
       "  <thead>\n",
       "    <tr style=\"text-align: right;\">\n",
       "      <th></th>\n",
       "      <th>full_users</th>\n",
       "    </tr>\n",
       "    <tr>\n",
       "      <th>group</th>\n",
       "      <th></th>\n",
       "    </tr>\n",
       "  </thead>\n",
       "  <tbody>\n",
       "    <tr>\n",
       "      <th>246</th>\n",
       "      <td>2484</td>\n",
       "    </tr>\n",
       "    <tr>\n",
       "      <th>247</th>\n",
       "      <td>2513</td>\n",
       "    </tr>\n",
       "    <tr>\n",
       "      <th>248</th>\n",
       "      <td>2537</td>\n",
       "    </tr>\n",
       "  </tbody>\n",
       "</table>\n",
       "</div>"
      ],
      "text/plain": [
       "       full_users\n",
       "group            \n",
       "246          2484\n",
       "247          2513\n",
       "248          2537"
      ]
     },
     "execution_count": 34,
     "metadata": {},
     "output_type": "execute_result"
    }
   ],
   "source": [
    "df_group = df.groupby('group').agg({'user_id': 'nunique'}).rename(columns={'user_id':'full_users'})\n",
    "df_group"
   ]
  },
  {
   "cell_type": "markdown",
   "id": "694a19c9",
   "metadata": {},
   "source": [
    "### Статистическая разница между выборками"
   ]
  },
  {
   "cell_type": "markdown",
   "id": "426aa06e",
   "metadata": {},
   "source": [
    "Нулевая гипотеза: стат разницы между 246 и 247 группой нет\n",
    "\n",
    "Альтернативная гипотеза: разница между 246 и 247 группой есть"
   ]
  },
  {
   "cell_type": "code",
   "execution_count": 35,
   "id": "85462549",
   "metadata": {},
   "outputs": [
    {
     "data": {
      "text/html": [
       "<div>\n",
       "<style scoped>\n",
       "    .dataframe tbody tr th:only-of-type {\n",
       "        vertical-align: middle;\n",
       "    }\n",
       "\n",
       "    .dataframe tbody tr th {\n",
       "        vertical-align: top;\n",
       "    }\n",
       "\n",
       "    .dataframe thead th {\n",
       "        text-align: right;\n",
       "    }\n",
       "</style>\n",
       "<table border=\"1\" class=\"dataframe\">\n",
       "  <thead>\n",
       "    <tr style=\"text-align: right;\">\n",
       "      <th></th>\n",
       "      <th>event</th>\n",
       "      <th>group</th>\n",
       "      <th>users</th>\n",
       "    </tr>\n",
       "  </thead>\n",
       "  <tbody>\n",
       "    <tr>\n",
       "      <th>5</th>\n",
       "      <td>MainScreenAppear</td>\n",
       "      <td>248</td>\n",
       "      <td>2493</td>\n",
       "    </tr>\n",
       "    <tr>\n",
       "      <th>8</th>\n",
       "      <td>OffersScreenAppear</td>\n",
       "      <td>248</td>\n",
       "      <td>1531</td>\n",
       "    </tr>\n",
       "    <tr>\n",
       "      <th>2</th>\n",
       "      <td>CartScreenAppear</td>\n",
       "      <td>248</td>\n",
       "      <td>1230</td>\n",
       "    </tr>\n",
       "    <tr>\n",
       "      <th>11</th>\n",
       "      <td>PaymentScreenSuccessful</td>\n",
       "      <td>248</td>\n",
       "      <td>1181</td>\n",
       "    </tr>\n",
       "    <tr>\n",
       "      <th>4</th>\n",
       "      <td>MainScreenAppear</td>\n",
       "      <td>247</td>\n",
       "      <td>2476</td>\n",
       "    </tr>\n",
       "    <tr>\n",
       "      <th>7</th>\n",
       "      <td>OffersScreenAppear</td>\n",
       "      <td>247</td>\n",
       "      <td>1520</td>\n",
       "    </tr>\n",
       "    <tr>\n",
       "      <th>1</th>\n",
       "      <td>CartScreenAppear</td>\n",
       "      <td>247</td>\n",
       "      <td>1238</td>\n",
       "    </tr>\n",
       "    <tr>\n",
       "      <th>10</th>\n",
       "      <td>PaymentScreenSuccessful</td>\n",
       "      <td>247</td>\n",
       "      <td>1158</td>\n",
       "    </tr>\n",
       "    <tr>\n",
       "      <th>3</th>\n",
       "      <td>MainScreenAppear</td>\n",
       "      <td>246</td>\n",
       "      <td>2450</td>\n",
       "    </tr>\n",
       "    <tr>\n",
       "      <th>6</th>\n",
       "      <td>OffersScreenAppear</td>\n",
       "      <td>246</td>\n",
       "      <td>1542</td>\n",
       "    </tr>\n",
       "    <tr>\n",
       "      <th>0</th>\n",
       "      <td>CartScreenAppear</td>\n",
       "      <td>246</td>\n",
       "      <td>1266</td>\n",
       "    </tr>\n",
       "    <tr>\n",
       "      <th>9</th>\n",
       "      <td>PaymentScreenSuccessful</td>\n",
       "      <td>246</td>\n",
       "      <td>1200</td>\n",
       "    </tr>\n",
       "  </tbody>\n",
       "</table>\n",
       "</div>"
      ],
      "text/plain": [
       "                      event  group  users\n",
       "5          MainScreenAppear    248   2493\n",
       "8        OffersScreenAppear    248   1531\n",
       "2          CartScreenAppear    248   1230\n",
       "11  PaymentScreenSuccessful    248   1181\n",
       "4          MainScreenAppear    247   2476\n",
       "7        OffersScreenAppear    247   1520\n",
       "1          CartScreenAppear    247   1238\n",
       "10  PaymentScreenSuccessful    247   1158\n",
       "3          MainScreenAppear    246   2450\n",
       "6        OffersScreenAppear    246   1542\n",
       "0          CartScreenAppear    246   1266\n",
       "9   PaymentScreenSuccessful    246   1200"
      ]
     },
     "execution_count": 35,
     "metadata": {},
     "output_type": "execute_result"
    }
   ],
   "source": [
    "group = (df.\n",
    "          groupby(['event', 'group'], as_index=False).\n",
    "          agg({'user_id': 'nunique'}).\n",
    "          rename(columns={'user_id' : 'users'}).\n",
    "          sort_values(by=['group','users'], ascending=False))\n",
    "\n",
    "group = group[group['event'] != 'Tutorial']\n",
    "group"
   ]
  },
  {
   "cell_type": "code",
   "execution_count": 36,
   "id": "e7a215ab",
   "metadata": {},
   "outputs": [],
   "source": [
    "def z_test(df1, df2, event, alpha, n):\n",
    "    '''    \n",
    "    - df1, df2 - датафреймы с логами\n",
    "    - event - событие\n",
    "    - alpfa - критический уровень статистической значимости\n",
    "    - n - поправка Боннферони для критического уровня статистической значимости\n",
    "    '''    \n",
    "    \n",
    "    # критический уровень статистической значимости c поправкой Бонферрони\n",
    "    bonferroni_alpha = alpha / n\n",
    " \n",
    "    # число пользователей в группе 1 и группе 2:\n",
    "    n_users = np.array([df1['user_id'].nunique(), \n",
    "                        df2['user_id'].nunique()])\n",
    "\n",
    "    # число пользователей, совершивших событие в группе 1 и группе 2\n",
    "    success = np.array([df1[df1['event'] == event]['user_id'].nunique(), \n",
    "                        df2[df2['event'] == event]['user_id'].nunique()])\n",
    "\n",
    "    # пропорции успехов в группах:\n",
    "    p1 = success[0] / n_users[0]\n",
    "    p2 = success[1] / n_users[1]\n",
    "    \n",
    "    # пропорция успехов в комбинированном датасете:\n",
    "    p_combined = (success[0] + success[1]) / (n_users[0] + n_users[1])\n",
    "\n",
    "    # разница пропорций в датасетах\n",
    "    difference = p1 - p2 \n",
    "\n",
    "    # считаем статистику в ст.отклонениях стандартного нормального распределения\n",
    "    z_value = difference /  np.sqrt(p_combined * (1 - p_combined) * (1/n_users[0] + 1/n_users[1]))\n",
    "\n",
    "    # задаем стандартное нормальное распределение (среднее 0, ст.отклонение 1)\n",
    "    distr = stats.norm(0, 1)  \n",
    "\n",
    "    p_value = (1 - distr.cdf(abs(z_value))) * 2   #тест двусторонний, удваиваем результат\n",
    "    \n",
    "    print('Событие:', event)\n",
    "    print('p-значение: ', p_value)\n",
    "\n",
    "    if p_value < bonferroni_alpha:\n",
    "        print('Отвергаем нулевую гипотезу: между долями есть разница')\n",
    "    else:\n",
    "        print('Не получилось отвергнуть нулевую гипотезу')"
   ]
  },
  {
   "cell_type": "markdown",
   "id": "77708ad4",
   "metadata": {},
   "source": [
    "Подготовили функцию для проверки статистически значимых различий между группами.\n",
    "\n",
    "В теле функции применяем поправку Бонферрони, так как внутри групп мы сравниваем 4 события,\n",
    "\n",
    "и хотим сохранить уровень значимости в заданных параметрах 5%.\n",
    "\n",
    "Без поправки Бонферрони увеличим вероятность получить ошибку первого рода и отвергнуть нулевую гипотезу ошибочно (каждое 5-ое сравнение может дать ошибку)"
   ]
  },
  {
   "cell_type": "code",
   "execution_count": 37,
   "id": "84c92a2b",
   "metadata": {},
   "outputs": [
    {
     "name": "stdout",
     "output_type": "stream",
     "text": [
      "Событие: MainScreenAppear\n",
      "p-значение:  0.7570597232046099\n",
      "Не получилось отвергнуть нулевую гипотезу\n",
      "\n",
      "Событие: OffersScreenAppear\n",
      "p-значение:  0.2480954578522181\n",
      "Не получилось отвергнуть нулевую гипотезу\n",
      "\n",
      "Событие: CartScreenAppear\n",
      "p-значение:  0.22883372237997213\n",
      "Не получилось отвергнуть нулевую гипотезу\n",
      "\n",
      "Событие: PaymentScreenSuccessful\n",
      "p-значение:  0.11456679313141849\n",
      "Не получилось отвергнуть нулевую гипотезу\n",
      "\n"
     ]
    }
   ],
   "source": [
    "# статистически значимая разница между контрольными группами 246 и 247:\n",
    "for event in group['event'].unique():\n",
    "    z_test(df[df['group'] == 246], df[df['group'] == 247], event,.05, 16)\n",
    "    print()"
   ]
  },
  {
   "cell_type": "markdown",
   "id": "6c047c88",
   "metadata": {},
   "source": [
    "Провели 4 сравнения выборок между группами 246 и 247.\n",
    "\n",
    "По всем событиям, которые мы сравнивали, статист значимых различий не обнаружено и нулевую гипотезу о равенстве групп отвергнуть мы не можем.\n",
    "\n",
    "Принимаем, что контрольные группы А\\А корректны."
   ]
  },
  {
   "cell_type": "code",
   "execution_count": 38,
   "id": "1be383e9",
   "metadata": {},
   "outputs": [
    {
     "name": "stdout",
     "output_type": "stream",
     "text": [
      "Событие: MainScreenAppear\n",
      "p-значение:  0.7570597232046099\n",
      "Не получилось отвергнуть нулевую гипотезу\n",
      "\n",
      "Событие: OffersScreenAppear\n",
      "p-значение:  0.2480954578522181\n",
      "Отвергаем нулевую гипотезу: между долями есть разница\n",
      "\n",
      "Событие: CartScreenAppear\n",
      "p-значение:  0.22883372237997213\n",
      "Отвергаем нулевую гипотезу: между долями есть разница\n",
      "\n",
      "Событие: PaymentScreenSuccessful\n",
      "p-значение:  0.11456679313141849\n",
      "Отвергаем нулевую гипотезу: между долями есть разница\n",
      "\n"
     ]
    }
   ],
   "source": [
    "# статистически значимая разница между контрольными группами 246 и 247:\n",
    "for event in group['event'].unique():\n",
    "    z_test(df[df['group'] == 246], df[df['group'] == 247], event,.30, 1)\n",
    "    print()"
   ]
  },
  {
   "cell_type": "code",
   "execution_count": 39,
   "id": "bd3e4423",
   "metadata": {},
   "outputs": [
    {
     "name": "stdout",
     "output_type": "stream",
     "text": [
      "Событие: MainScreenAppear\n",
      "p-значение:  0.7570597232046099\n",
      "Не получилось отвергнуть нулевую гипотезу\n",
      "\n",
      "Событие: OffersScreenAppear\n",
      "p-значение:  0.2480954578522181\n",
      "Не получилось отвергнуть нулевую гипотезу\n",
      "\n",
      "Событие: CartScreenAppear\n",
      "p-значение:  0.22883372237997213\n",
      "Не получилось отвергнуть нулевую гипотезу\n",
      "\n",
      "Событие: PaymentScreenSuccessful\n",
      "p-значение:  0.11456679313141849\n",
      "Не получилось отвергнуть нулевую гипотезу\n",
      "\n"
     ]
    }
   ],
   "source": [
    "# статистически значимая разница между контрольными группами 246 и 247:\n",
    "for event in group['event'].unique():\n",
    "    z_test(df[df['group'] == 246], df[df['group'] == 247], event,.30, 16)\n",
    "    print()"
   ]
  },
  {
   "cell_type": "markdown",
   "id": "44d1ad91",
   "metadata": {},
   "source": [
    "### Самое популярное событие"
   ]
  },
  {
   "cell_type": "code",
   "execution_count": 40,
   "id": "a47216f7",
   "metadata": {},
   "outputs": [
    {
     "data": {
      "text/html": [
       "<div>\n",
       "<style scoped>\n",
       "    .dataframe tbody tr th:only-of-type {\n",
       "        vertical-align: middle;\n",
       "    }\n",
       "\n",
       "    .dataframe tbody tr th {\n",
       "        vertical-align: top;\n",
       "    }\n",
       "\n",
       "    .dataframe thead th {\n",
       "        text-align: right;\n",
       "    }\n",
       "</style>\n",
       "<table border=\"1\" class=\"dataframe\">\n",
       "  <thead>\n",
       "    <tr style=\"text-align: right;\">\n",
       "      <th></th>\n",
       "      <th>event</th>\n",
       "      <th>group</th>\n",
       "      <th>users</th>\n",
       "    </tr>\n",
       "  </thead>\n",
       "  <tbody>\n",
       "    <tr>\n",
       "      <th>0</th>\n",
       "      <td>MainScreenAppear</td>\n",
       "      <td>246</td>\n",
       "      <td>2450</td>\n",
       "    </tr>\n",
       "    <tr>\n",
       "      <th>1</th>\n",
       "      <td>MainScreenAppear</td>\n",
       "      <td>247</td>\n",
       "      <td>2476</td>\n",
       "    </tr>\n",
       "    <tr>\n",
       "      <th>2</th>\n",
       "      <td>MainScreenAppear</td>\n",
       "      <td>248</td>\n",
       "      <td>2493</td>\n",
       "    </tr>\n",
       "  </tbody>\n",
       "</table>\n",
       "</div>"
      ],
      "text/plain": [
       "              event  group  users\n",
       "0  MainScreenAppear    246   2450\n",
       "1  MainScreenAppear    247   2476\n",
       "2  MainScreenAppear    248   2493"
      ]
     },
     "execution_count": 40,
     "metadata": {},
     "output_type": "execute_result"
    }
   ],
   "source": [
    "# сколько пользователей совершили самое популярное событие по группам\n",
    "group_max = df[df['event'] =='MainScreenAppear']\n",
    "group_m = (group_max.\n",
    "          groupby(['event', 'group'], as_index=False).\n",
    "          agg({'user_id': 'nunique'}).\n",
    "          rename(columns={'user_id' : 'users'}))\n",
    "group_m"
   ]
  },
  {
   "cell_type": "code",
   "execution_count": 41,
   "id": "dbf79e1d",
   "metadata": {},
   "outputs": [],
   "source": [
    "group_mf = group_m.merge(df_group, on='group')"
   ]
  },
  {
   "cell_type": "code",
   "execution_count": 42,
   "id": "a01522d0",
   "metadata": {},
   "outputs": [
    {
     "data": {
      "text/html": [
       "<div>\n",
       "<style scoped>\n",
       "    .dataframe tbody tr th:only-of-type {\n",
       "        vertical-align: middle;\n",
       "    }\n",
       "\n",
       "    .dataframe tbody tr th {\n",
       "        vertical-align: top;\n",
       "    }\n",
       "\n",
       "    .dataframe thead th {\n",
       "        text-align: right;\n",
       "    }\n",
       "</style>\n",
       "<table border=\"1\" class=\"dataframe\">\n",
       "  <thead>\n",
       "    <tr style=\"text-align: right;\">\n",
       "      <th></th>\n",
       "      <th>event</th>\n",
       "      <th>group</th>\n",
       "      <th>users</th>\n",
       "      <th>full_users</th>\n",
       "    </tr>\n",
       "  </thead>\n",
       "  <tbody>\n",
       "    <tr>\n",
       "      <th>0</th>\n",
       "      <td>MainScreenAppear</td>\n",
       "      <td>246</td>\n",
       "      <td>2450</td>\n",
       "      <td>2484</td>\n",
       "    </tr>\n",
       "    <tr>\n",
       "      <th>1</th>\n",
       "      <td>MainScreenAppear</td>\n",
       "      <td>247</td>\n",
       "      <td>2476</td>\n",
       "      <td>2513</td>\n",
       "    </tr>\n",
       "    <tr>\n",
       "      <th>2</th>\n",
       "      <td>MainScreenAppear</td>\n",
       "      <td>248</td>\n",
       "      <td>2493</td>\n",
       "      <td>2537</td>\n",
       "    </tr>\n",
       "  </tbody>\n",
       "</table>\n",
       "</div>"
      ],
      "text/plain": [
       "              event  group  users  full_users\n",
       "0  MainScreenAppear    246   2450        2484\n",
       "1  MainScreenAppear    247   2476        2513\n",
       "2  MainScreenAppear    248   2493        2537"
      ]
     },
     "execution_count": 42,
     "metadata": {},
     "output_type": "execute_result"
    }
   ],
   "source": [
    "group_mf"
   ]
  },
  {
   "cell_type": "code",
   "execution_count": 43,
   "id": "e39bf7ec",
   "metadata": {},
   "outputs": [
    {
     "data": {
      "text/html": [
       "<div>\n",
       "<style scoped>\n",
       "    .dataframe tbody tr th:only-of-type {\n",
       "        vertical-align: middle;\n",
       "    }\n",
       "\n",
       "    .dataframe tbody tr th {\n",
       "        vertical-align: top;\n",
       "    }\n",
       "\n",
       "    .dataframe thead th {\n",
       "        text-align: right;\n",
       "    }\n",
       "</style>\n",
       "<table border=\"1\" class=\"dataframe\">\n",
       "  <thead>\n",
       "    <tr style=\"text-align: right;\">\n",
       "      <th></th>\n",
       "      <th>event</th>\n",
       "      <th>group</th>\n",
       "      <th>users</th>\n",
       "      <th>full_users</th>\n",
       "      <th>per</th>\n",
       "    </tr>\n",
       "  </thead>\n",
       "  <tbody>\n",
       "    <tr>\n",
       "      <th>0</th>\n",
       "      <td>MainScreenAppear</td>\n",
       "      <td>246</td>\n",
       "      <td>2450</td>\n",
       "      <td>2484</td>\n",
       "      <td>0.986</td>\n",
       "    </tr>\n",
       "    <tr>\n",
       "      <th>1</th>\n",
       "      <td>MainScreenAppear</td>\n",
       "      <td>247</td>\n",
       "      <td>2476</td>\n",
       "      <td>2513</td>\n",
       "      <td>0.985</td>\n",
       "    </tr>\n",
       "    <tr>\n",
       "      <th>2</th>\n",
       "      <td>MainScreenAppear</td>\n",
       "      <td>248</td>\n",
       "      <td>2493</td>\n",
       "      <td>2537</td>\n",
       "      <td>0.983</td>\n",
       "    </tr>\n",
       "  </tbody>\n",
       "</table>\n",
       "</div>"
      ],
      "text/plain": [
       "              event  group  users  full_users    per\n",
       "0  MainScreenAppear    246   2450        2484  0.986\n",
       "1  MainScreenAppear    247   2476        2513  0.985\n",
       "2  MainScreenAppear    248   2493        2537  0.983"
      ]
     },
     "execution_count": 43,
     "metadata": {},
     "output_type": "execute_result"
    }
   ],
   "source": [
    "# посчитаем долю пользователей совершивших самое популярное событие\n",
    "group_mf['per'] = round(group_mf['users']/group_mf['full_users'],3)\n",
    "group_mf"
   ]
  },
  {
   "cell_type": "markdown",
   "id": "5db244ac",
   "metadata": {},
   "source": [
    "Практически все пользователи из общего числа открывали главную страницу"
   ]
  },
  {
   "cell_type": "markdown",
   "id": "eb911ca2",
   "metadata": {},
   "source": [
    "### Стат различие между контрольными группами и группой с измененным шифром по событиям"
   ]
  },
  {
   "cell_type": "code",
   "execution_count": 44,
   "id": "e3f04e7f",
   "metadata": {},
   "outputs": [
    {
     "name": "stdout",
     "output_type": "stream",
     "text": [
      "Событие: MainScreenAppear\n",
      "p-значение:  0.2949721933554552\n",
      "Не получилось отвергнуть нулевую гипотезу\n",
      "\n",
      "Событие: OffersScreenAppear\n",
      "p-значение:  0.20836205402738917\n",
      "Не получилось отвергнуть нулевую гипотезу\n",
      "\n",
      "Событие: CartScreenAppear\n",
      "p-значение:  0.07842923237520116\n",
      "Не получилось отвергнуть нулевую гипотезу\n",
      "\n",
      "Событие: PaymentScreenSuccessful\n",
      "p-значение:  0.2122553275697796\n",
      "Не получилось отвергнуть нулевую гипотезу\n",
      "\n"
     ]
    }
   ],
   "source": [
    "# статистически значимая разница между группами 246 и 248:\n",
    "for event in group['event'].unique():\n",
    "    z_test(df[df['group'] == 246], df[df['group'] == 248], event,.05,16)\n",
    "    print()"
   ]
  },
  {
   "cell_type": "markdown",
   "id": "f159a322",
   "metadata": {},
   "source": [
    "Статистически значимой разницы между контрольной группой 246 и тестируемой группой 248 нет"
   ]
  },
  {
   "cell_type": "code",
   "execution_count": 45,
   "id": "08a68263",
   "metadata": {},
   "outputs": [
    {
     "name": "stdout",
     "output_type": "stream",
     "text": [
      "Событие: MainScreenAppear\n",
      "p-значение:  0.4587053616621515\n",
      "Не получилось отвергнуть нулевую гипотезу\n",
      "\n",
      "Событие: OffersScreenAppear\n",
      "p-значение:  0.9197817830592261\n",
      "Не получилось отвергнуть нулевую гипотезу\n",
      "\n",
      "Событие: CartScreenAppear\n",
      "p-значение:  0.5786197879539783\n",
      "Не получилось отвергнуть нулевую гипотезу\n",
      "\n",
      "Событие: PaymentScreenSuccessful\n",
      "p-значение:  0.7373415053803964\n",
      "Не получилось отвергнуть нулевую гипотезу\n",
      "\n"
     ]
    }
   ],
   "source": [
    "# статистически значимая разница между группами 247 и 248:\n",
    "for event in group['event'].unique():\n",
    "    z_test(df[df['group'] == 247], df[df['group'] == 248], event,.05,16)\n",
    "    print()"
   ]
  },
  {
   "cell_type": "markdown",
   "id": "d2321df0",
   "metadata": {},
   "source": [
    "Статистически значимой разницы между контрольной группой 247 и тестируемой группой 248 нет"
   ]
  },
  {
   "cell_type": "code",
   "execution_count": 46,
   "id": "baf95ed2",
   "metadata": {},
   "outputs": [
    {
     "name": "stdout",
     "output_type": "stream",
     "text": [
      "Событие: MainScreenAppear\n",
      "p-значение:  0.29424526837179577\n",
      "Не получилось отвергнуть нулевую гипотезу\n",
      "\n",
      "Событие: OffersScreenAppear\n",
      "p-значение:  0.43425549655188256\n",
      "Не получилось отвергнуть нулевую гипотезу\n",
      "\n",
      "Событие: CartScreenAppear\n",
      "p-значение:  0.18175875284404386\n",
      "Не получилось отвергнуть нулевую гипотезу\n",
      "\n",
      "Событие: PaymentScreenSuccessful\n",
      "p-значение:  0.6004294282308704\n",
      "Не получилось отвергнуть нулевую гипотезу\n",
      "\n"
     ]
    }
   ],
   "source": [
    "# статистически значимая разница между группами 246+247 и 248:\n",
    "for event in group['event'].unique():\n",
    "    z_test(df[df['group'] != 248], df[df['group'] == 248], event,.05,16)\n",
    "    print()"
   ]
  },
  {
   "cell_type": "markdown",
   "id": "0912a583",
   "metadata": {},
   "source": [
    "Статистически значимой разницы между суммой 246 и 247 группами и тестируемой группой 248 нет"
   ]
  },
  {
   "cell_type": "markdown",
   "id": "4087936a",
   "metadata": {},
   "source": [
    "Тестируемая группа 248 не дает значимых различий с контрольными группами, что говорит о том, что \n",
    "\n",
    "потребители используя сайт с увеличенным шрифтом не изменили своего поведения."
   ]
  },
  {
   "cell_type": "markdown",
   "id": "48ce8417",
   "metadata": {},
   "source": [
    "### Уровень значимости"
   ]
  },
  {
   "cell_type": "markdown",
   "id": "06d9ba50",
   "metadata": {},
   "source": [
    "В исследования мы использовали уровень значимости 5%.\n",
    "\n",
    "При использовании уровня значимости 0,1, мы поличим каждый десятый результат как ложноположительный.\n",
    "\n",
    "Так как проведено 16 тестов, то при уровне значимости мы бы получили как минимум один \n",
    "\n",
    "ложноположительный результат, что могло привести к ошибочным выводам о разницы между контрольными и \n",
    "\n",
    "тестируемой группой.\n",
    "\n",
    "Поэтому для проверки статистической разницы между группами применяли поправку Бонферрони, где уровень стат значимости\n",
    "\n",
    "делится на количество эксперементов\n",
    "\n",
    "Применение поправки Бонферрони позволило снизить влияние ошибки первого рода на результат проверки."
   ]
  },
  {
   "cell_type": "markdown",
   "id": "790e5730",
   "metadata": {},
   "source": [
    "## Вывод"
   ]
  },
  {
   "cell_type": "markdown",
   "id": "cf2df055",
   "metadata": {},
   "source": [
    "Для аналитики был предоставлен файл с логами покупателей\n",
    "\n",
    "в файле содержится 4 колонки и 244 тыс.строчек.\n",
    "\n",
    "Была проведена предобработка данных, изменен тип данных в столбце даты, заменили названия столбцов,\n",
    "\n",
    "проверили и удалили дубликаты.\n",
    "\n",
    "В логе представлено пять вариантов событий:\n",
    "\n",
    "MainScreenAppear - главный экран 117328 событий\n",
    "\n",
    "OffersScreenAppear - экран с продуктами 46333 событий\n",
    "\n",
    "CartScreenAppear - экран с корзиной 42303 событий\n",
    "\n",
    "PaymentScreenSuccessful - экран с подтверждением оплаты 33918 событий\n",
    "\n",
    "Tutorial - экран с обучением 1005 событий\n",
    "\n",
    "Была проведена очистка данных. Убраны строки с данными о просмотре страницы с обучением.\n",
    "\n",
    "Проведена корректировка данных по времени. Для дальнейшего анализа приняты данные за период с 01 августа по 07 августа 2019 года\n",
    "\n",
    "Изучив воронку событий получены следующие данные:\n",
    "    \n",
    "Посетителей на главной странице: (100.0%)\n",
    " \n",
    "Посмотрели экран с продуктами в % от предыдущего шага: (61.9%)\n",
    " \n",
    "Посмотрели экран с корзиной в % от предыдущего шага: (81.3%)\n",
    " \n",
    "Оплатили в % от предыдущего шага: (94.8%)\n",
    "    \n",
    "Доля пользователей от посещения главной страницы к оплате : (47.7%)   \n",
    "\n",
    "Проверены статистические различия между контрольными группами 246 и 247. По результату группы идентичны.\n",
    "\n",
    "Проверены статистические различия между контрольными группами и проверяемой. \n",
    "\n",
    "Исследование показало, что группа с измененным шрифтом не отличается от контрольных групп.\n"
   ]
  }
 ],
 "metadata": {
  "ExecuteTimeLog": [
   {
    "duration": 1149,
    "start_time": "2023-08-08T07:27:46.688Z"
   },
   {
    "duration": 1145,
    "start_time": "2023-08-08T07:27:47.839Z"
   },
   {
    "duration": 18,
    "start_time": "2023-08-08T07:27:48.986Z"
   },
   {
    "duration": 27,
    "start_time": "2023-08-08T07:27:49.005Z"
   },
   {
    "duration": 263,
    "start_time": "2023-08-08T07:27:49.033Z"
   },
   {
    "duration": 2589,
    "start_time": "2023-08-08T07:27:49.297Z"
   },
   {
    "duration": 0,
    "start_time": "2023-08-08T07:27:51.889Z"
   },
   {
    "duration": 0,
    "start_time": "2023-08-08T07:27:51.891Z"
   },
   {
    "duration": 0,
    "start_time": "2023-08-08T07:27:51.892Z"
   },
   {
    "duration": 0,
    "start_time": "2023-08-08T07:27:51.894Z"
   },
   {
    "duration": 0,
    "start_time": "2023-08-08T07:27:51.895Z"
   },
   {
    "duration": 0,
    "start_time": "2023-08-08T07:27:51.897Z"
   },
   {
    "duration": 0,
    "start_time": "2023-08-08T07:27:51.898Z"
   },
   {
    "duration": 0,
    "start_time": "2023-08-08T07:27:51.900Z"
   },
   {
    "duration": 0,
    "start_time": "2023-08-08T07:27:51.901Z"
   },
   {
    "duration": 0,
    "start_time": "2023-08-08T07:27:51.903Z"
   },
   {
    "duration": 0,
    "start_time": "2023-08-08T07:27:51.904Z"
   },
   {
    "duration": 0,
    "start_time": "2023-08-08T07:27:51.905Z"
   },
   {
    "duration": 0,
    "start_time": "2023-08-08T07:27:51.906Z"
   },
   {
    "duration": 0,
    "start_time": "2023-08-08T07:27:51.908Z"
   },
   {
    "duration": 0,
    "start_time": "2023-08-08T07:27:51.909Z"
   },
   {
    "duration": 0,
    "start_time": "2023-08-08T07:27:51.910Z"
   },
   {
    "duration": 0,
    "start_time": "2023-08-08T07:27:51.912Z"
   },
   {
    "duration": 0,
    "start_time": "2023-08-08T07:27:51.913Z"
   },
   {
    "duration": 0,
    "start_time": "2023-08-08T07:27:51.915Z"
   },
   {
    "duration": 0,
    "start_time": "2023-08-08T07:27:51.916Z"
   },
   {
    "duration": 0,
    "start_time": "2023-08-08T07:27:51.917Z"
   },
   {
    "duration": 0,
    "start_time": "2023-08-08T07:27:51.918Z"
   },
   {
    "duration": 0,
    "start_time": "2023-08-08T07:27:51.920Z"
   },
   {
    "duration": 0,
    "start_time": "2023-08-08T07:27:51.921Z"
   },
   {
    "duration": 0,
    "start_time": "2023-08-08T07:27:51.922Z"
   },
   {
    "duration": 0,
    "start_time": "2023-08-08T07:27:51.924Z"
   },
   {
    "duration": 0,
    "start_time": "2023-08-08T07:27:51.925Z"
   },
   {
    "duration": 0,
    "start_time": "2023-08-08T07:27:51.927Z"
   },
   {
    "duration": 0,
    "start_time": "2023-08-08T07:27:51.928Z"
   },
   {
    "duration": 0,
    "start_time": "2023-08-08T07:27:51.930Z"
   },
   {
    "duration": 0,
    "start_time": "2023-08-08T07:27:51.931Z"
   },
   {
    "duration": 0,
    "start_time": "2023-08-08T07:27:51.933Z"
   },
   {
    "duration": 0,
    "start_time": "2023-08-08T07:27:51.934Z"
   },
   {
    "duration": 0,
    "start_time": "2023-08-08T07:27:51.935Z"
   },
   {
    "duration": 0,
    "start_time": "2023-08-08T07:27:51.937Z"
   },
   {
    "duration": 0,
    "start_time": "2023-08-08T07:27:51.938Z"
   },
   {
    "duration": 0,
    "start_time": "2023-08-08T07:27:51.939Z"
   },
   {
    "duration": 0,
    "start_time": "2023-08-08T07:27:51.941Z"
   },
   {
    "duration": 1089,
    "start_time": "2023-08-08T07:28:12.842Z"
   },
   {
    "duration": 508,
    "start_time": "2023-08-08T07:28:13.933Z"
   },
   {
    "duration": 19,
    "start_time": "2023-08-08T07:28:14.443Z"
   },
   {
    "duration": 26,
    "start_time": "2023-08-08T07:28:14.463Z"
   },
   {
    "duration": 114,
    "start_time": "2023-08-08T07:28:14.492Z"
   },
   {
    "duration": 13,
    "start_time": "2023-08-08T07:28:14.607Z"
   },
   {
    "duration": 341,
    "start_time": "2023-08-08T07:28:14.623Z"
   },
   {
    "duration": 8,
    "start_time": "2023-08-08T07:28:14.965Z"
   },
   {
    "duration": 86,
    "start_time": "2023-08-08T07:28:14.975Z"
   },
   {
    "duration": 113,
    "start_time": "2023-08-08T07:28:15.063Z"
   },
   {
    "duration": 72,
    "start_time": "2023-08-08T07:28:15.178Z"
   },
   {
    "duration": 82,
    "start_time": "2023-08-08T07:28:15.252Z"
   },
   {
    "duration": 45,
    "start_time": "2023-08-08T07:28:15.336Z"
   },
   {
    "duration": 46,
    "start_time": "2023-08-08T07:28:15.384Z"
   },
   {
    "duration": 36,
    "start_time": "2023-08-08T07:28:15.431Z"
   },
   {
    "duration": 539,
    "start_time": "2023-08-08T07:28:15.469Z"
   },
   {
    "duration": 474,
    "start_time": "2023-08-08T07:28:16.010Z"
   },
   {
    "duration": 27,
    "start_time": "2023-08-08T07:28:16.485Z"
   },
   {
    "duration": 10,
    "start_time": "2023-08-08T07:28:16.513Z"
   },
   {
    "duration": 36,
    "start_time": "2023-08-08T07:28:16.525Z"
   },
   {
    "duration": 8,
    "start_time": "2023-08-08T07:28:16.562Z"
   },
   {
    "duration": 44,
    "start_time": "2023-08-08T07:28:16.572Z"
   },
   {
    "duration": 257,
    "start_time": "2023-08-08T07:28:16.618Z"
   },
   {
    "duration": 9,
    "start_time": "2023-08-08T07:28:16.877Z"
   },
   {
    "duration": 61,
    "start_time": "2023-08-08T07:28:16.887Z"
   },
   {
    "duration": 7,
    "start_time": "2023-08-08T07:28:16.950Z"
   },
   {
    "duration": 13,
    "start_time": "2023-08-08T07:28:16.958Z"
   },
   {
    "duration": 99,
    "start_time": "2023-08-08T07:28:16.973Z"
   },
   {
    "duration": 112,
    "start_time": "2023-08-08T07:28:17.074Z"
   },
   {
    "duration": 0,
    "start_time": "2023-08-08T07:28:17.188Z"
   },
   {
    "duration": 0,
    "start_time": "2023-08-08T07:28:17.189Z"
   },
   {
    "duration": 0,
    "start_time": "2023-08-08T07:28:17.200Z"
   },
   {
    "duration": 0,
    "start_time": "2023-08-08T07:28:17.201Z"
   },
   {
    "duration": 0,
    "start_time": "2023-08-08T07:28:17.203Z"
   },
   {
    "duration": 0,
    "start_time": "2023-08-08T07:28:17.204Z"
   },
   {
    "duration": 0,
    "start_time": "2023-08-08T07:28:17.206Z"
   },
   {
    "duration": 0,
    "start_time": "2023-08-08T07:28:17.207Z"
   },
   {
    "duration": 0,
    "start_time": "2023-08-08T07:28:17.208Z"
   },
   {
    "duration": 0,
    "start_time": "2023-08-08T07:28:17.209Z"
   },
   {
    "duration": 0,
    "start_time": "2023-08-08T07:28:17.210Z"
   },
   {
    "duration": 0,
    "start_time": "2023-08-08T07:28:17.211Z"
   },
   {
    "duration": 1,
    "start_time": "2023-08-08T07:28:17.211Z"
   },
   {
    "duration": 0,
    "start_time": "2023-08-08T07:28:17.212Z"
   },
   {
    "duration": 0,
    "start_time": "2023-08-08T07:28:17.213Z"
   },
   {
    "duration": 17,
    "start_time": "2023-08-08T07:29:04.657Z"
   },
   {
    "duration": 10,
    "start_time": "2023-08-08T07:29:11.378Z"
   },
   {
    "duration": 13,
    "start_time": "2023-08-08T07:29:32.378Z"
   },
   {
    "duration": 1188,
    "start_time": "2023-08-08T07:29:39.206Z"
   },
   {
    "duration": 194,
    "start_time": "2023-08-08T07:29:40.396Z"
   },
   {
    "duration": 26,
    "start_time": "2023-08-08T07:29:40.592Z"
   },
   {
    "duration": 12,
    "start_time": "2023-08-08T07:29:40.621Z"
   },
   {
    "duration": 80,
    "start_time": "2023-08-08T07:29:40.635Z"
   },
   {
    "duration": 9,
    "start_time": "2023-08-08T07:29:40.716Z"
   },
   {
    "duration": 331,
    "start_time": "2023-08-08T07:29:40.727Z"
   },
   {
    "duration": 7,
    "start_time": "2023-08-08T07:29:41.060Z"
   },
   {
    "duration": 31,
    "start_time": "2023-08-08T07:29:41.069Z"
   },
   {
    "duration": 113,
    "start_time": "2023-08-08T07:29:41.104Z"
   },
   {
    "duration": 59,
    "start_time": "2023-08-08T07:29:41.219Z"
   },
   {
    "duration": 80,
    "start_time": "2023-08-08T07:29:41.279Z"
   },
   {
    "duration": 54,
    "start_time": "2023-08-08T07:29:41.361Z"
   },
   {
    "duration": 46,
    "start_time": "2023-08-08T07:29:41.416Z"
   },
   {
    "duration": 46,
    "start_time": "2023-08-08T07:29:41.464Z"
   },
   {
    "duration": 447,
    "start_time": "2023-08-08T07:29:41.512Z"
   },
   {
    "duration": 370,
    "start_time": "2023-08-08T07:29:41.960Z"
   },
   {
    "duration": 16,
    "start_time": "2023-08-08T07:29:42.332Z"
   },
   {
    "duration": 7,
    "start_time": "2023-08-08T07:29:42.349Z"
   },
   {
    "duration": 54,
    "start_time": "2023-08-08T07:29:42.357Z"
   },
   {
    "duration": 8,
    "start_time": "2023-08-08T07:29:42.412Z"
   },
   {
    "duration": 44,
    "start_time": "2023-08-08T07:29:42.421Z"
   },
   {
    "duration": 236,
    "start_time": "2023-08-08T07:29:42.466Z"
   },
   {
    "duration": 8,
    "start_time": "2023-08-08T07:29:42.703Z"
   },
   {
    "duration": 54,
    "start_time": "2023-08-08T07:29:42.713Z"
   },
   {
    "duration": 6,
    "start_time": "2023-08-08T07:29:42.769Z"
   },
   {
    "duration": 27,
    "start_time": "2023-08-08T07:29:42.777Z"
   },
   {
    "duration": 76,
    "start_time": "2023-08-08T07:29:42.807Z"
   },
   {
    "duration": 16,
    "start_time": "2023-08-08T07:29:42.885Z"
   },
   {
    "duration": 14,
    "start_time": "2023-08-08T07:29:42.903Z"
   },
   {
    "duration": 14,
    "start_time": "2023-08-08T07:29:42.918Z"
   },
   {
    "duration": 12,
    "start_time": "2023-08-08T07:29:42.934Z"
   },
   {
    "duration": 64,
    "start_time": "2023-08-08T07:29:42.948Z"
   },
   {
    "duration": 105,
    "start_time": "2023-08-08T07:29:43.014Z"
   },
   {
    "duration": 9,
    "start_time": "2023-08-08T07:29:43.121Z"
   },
   {
    "duration": 112,
    "start_time": "2023-08-08T07:29:43.131Z"
   },
   {
    "duration": 5,
    "start_time": "2023-08-08T07:29:43.246Z"
   },
   {
    "duration": 174,
    "start_time": "2023-08-08T07:29:43.252Z"
   },
   {
    "duration": 72,
    "start_time": "2023-08-08T07:29:43.428Z"
   },
   {
    "duration": 5,
    "start_time": "2023-08-08T07:29:43.502Z"
   },
   {
    "duration": 23,
    "start_time": "2023-08-08T07:29:43.509Z"
   },
   {
    "duration": 22,
    "start_time": "2023-08-08T07:29:43.534Z"
   },
   {
    "duration": 94,
    "start_time": "2023-08-08T07:29:43.558Z"
   },
   {
    "duration": 105,
    "start_time": "2023-08-08T07:29:43.654Z"
   },
   {
    "duration": 188,
    "start_time": "2023-08-08T07:29:43.760Z"
   },
   {
    "duration": 64,
    "start_time": "2023-08-08T09:09:54.466Z"
   },
   {
    "duration": 1493,
    "start_time": "2023-08-08T09:10:00.975Z"
   },
   {
    "duration": 615,
    "start_time": "2023-08-08T09:10:02.470Z"
   },
   {
    "duration": 21,
    "start_time": "2023-08-08T09:10:03.087Z"
   },
   {
    "duration": 14,
    "start_time": "2023-08-08T09:10:03.110Z"
   },
   {
    "duration": 93,
    "start_time": "2023-08-08T09:10:03.125Z"
   },
   {
    "duration": 8,
    "start_time": "2023-08-08T09:10:03.220Z"
   },
   {
    "duration": 312,
    "start_time": "2023-08-08T09:10:03.229Z"
   },
   {
    "duration": 7,
    "start_time": "2023-08-08T09:10:03.542Z"
   },
   {
    "duration": 19,
    "start_time": "2023-08-08T09:10:03.550Z"
   },
   {
    "duration": 106,
    "start_time": "2023-08-08T09:10:03.571Z"
   },
   {
    "duration": 61,
    "start_time": "2023-08-08T09:10:03.678Z"
   },
   {
    "duration": 62,
    "start_time": "2023-08-08T09:10:03.741Z"
   },
   {
    "duration": 50,
    "start_time": "2023-08-08T09:10:03.804Z"
   },
   {
    "duration": 27,
    "start_time": "2023-08-08T09:10:03.855Z"
   },
   {
    "duration": 22,
    "start_time": "2023-08-08T09:10:03.884Z"
   },
   {
    "duration": 442,
    "start_time": "2023-08-08T09:10:03.908Z"
   },
   {
    "duration": 433,
    "start_time": "2023-08-08T09:10:04.351Z"
   },
   {
    "duration": 18,
    "start_time": "2023-08-08T09:10:04.786Z"
   },
   {
    "duration": 26,
    "start_time": "2023-08-08T09:10:04.806Z"
   },
   {
    "duration": 53,
    "start_time": "2023-08-08T09:10:04.834Z"
   },
   {
    "duration": 7,
    "start_time": "2023-08-08T09:10:04.888Z"
   },
   {
    "duration": 42,
    "start_time": "2023-08-08T09:10:04.896Z"
   },
   {
    "duration": 228,
    "start_time": "2023-08-08T09:10:04.940Z"
   },
   {
    "duration": 9,
    "start_time": "2023-08-08T09:10:05.169Z"
   },
   {
    "duration": 63,
    "start_time": "2023-08-08T09:10:05.180Z"
   },
   {
    "duration": 7,
    "start_time": "2023-08-08T09:10:05.245Z"
   },
   {
    "duration": 15,
    "start_time": "2023-08-08T09:10:05.253Z"
   },
   {
    "duration": 82,
    "start_time": "2023-08-08T09:10:05.271Z"
   },
   {
    "duration": 6,
    "start_time": "2023-08-08T09:10:05.354Z"
   },
   {
    "duration": 31,
    "start_time": "2023-08-08T09:10:05.361Z"
   },
   {
    "duration": 18,
    "start_time": "2023-08-08T09:10:05.393Z"
   },
   {
    "duration": 36,
    "start_time": "2023-08-08T09:10:05.412Z"
   },
   {
    "duration": 53,
    "start_time": "2023-08-08T09:10:05.449Z"
   },
   {
    "duration": 64,
    "start_time": "2023-08-08T09:10:05.503Z"
   },
   {
    "duration": 5,
    "start_time": "2023-08-08T09:10:05.569Z"
   },
   {
    "duration": 107,
    "start_time": "2023-08-08T09:10:05.576Z"
   },
   {
    "duration": 6,
    "start_time": "2023-08-08T09:10:05.685Z"
   },
   {
    "duration": 199,
    "start_time": "2023-08-08T09:10:05.693Z"
   },
   {
    "duration": 56,
    "start_time": "2023-08-08T09:10:05.894Z"
   },
   {
    "duration": 5,
    "start_time": "2023-08-08T09:10:05.952Z"
   },
   {
    "duration": 42,
    "start_time": "2023-08-08T09:10:05.958Z"
   },
   {
    "duration": 50,
    "start_time": "2023-08-08T09:10:06.002Z"
   },
   {
    "duration": 165,
    "start_time": "2023-08-08T09:10:06.054Z"
   },
   {
    "duration": 100,
    "start_time": "2023-08-08T09:10:06.221Z"
   },
   {
    "duration": 156,
    "start_time": "2023-08-08T09:10:06.323Z"
   },
   {
    "duration": 90,
    "start_time": "2023-08-08T09:10:19.114Z"
   },
   {
    "duration": 202,
    "start_time": "2023-08-08T09:11:29.616Z"
   },
   {
    "duration": 90,
    "start_time": "2023-08-08T09:12:55.547Z"
   },
   {
    "duration": 98,
    "start_time": "2023-08-08T09:13:04.590Z"
   },
   {
    "duration": 85,
    "start_time": "2023-08-08T09:13:10.902Z"
   },
   {
    "duration": 89,
    "start_time": "2023-08-08T09:14:02.129Z"
   },
   {
    "duration": 87,
    "start_time": "2023-08-08T09:14:10.478Z"
   },
   {
    "duration": 83,
    "start_time": "2023-08-08T09:14:50.376Z"
   },
   {
    "duration": 92,
    "start_time": "2023-08-08T09:15:01.625Z"
   },
   {
    "duration": 84,
    "start_time": "2023-08-08T09:15:10.155Z"
   },
   {
    "duration": 84,
    "start_time": "2023-08-08T09:16:20.674Z"
   },
   {
    "duration": 88,
    "start_time": "2023-08-08T09:17:45.031Z"
   },
   {
    "duration": 86,
    "start_time": "2023-08-08T09:17:51.569Z"
   },
   {
    "duration": 93,
    "start_time": "2023-08-08T09:18:25.299Z"
   },
   {
    "duration": 107,
    "start_time": "2023-08-08T09:20:07.801Z"
   },
   {
    "duration": 82,
    "start_time": "2023-08-08T09:20:14.397Z"
   },
   {
    "duration": 88,
    "start_time": "2023-08-08T09:25:05.793Z"
   },
   {
    "duration": 84,
    "start_time": "2023-08-08T09:25:13.283Z"
   },
   {
    "duration": 130,
    "start_time": "2023-08-08T09:25:19.497Z"
   }
  ],
  "kernelspec": {
   "display_name": "Python 3 (ipykernel)",
   "language": "python",
   "name": "python3"
  },
  "language_info": {
   "codemirror_mode": {
    "name": "ipython",
    "version": 3
   },
   "file_extension": ".py",
   "mimetype": "text/x-python",
   "name": "python",
   "nbconvert_exporter": "python",
   "pygments_lexer": "ipython3",
   "version": "3.10.9"
  },
  "toc": {
   "base_numbering": 1,
   "nav_menu": {},
   "number_sections": true,
   "sideBar": true,
   "skip_h1_title": true,
   "title_cell": "Table of Contents",
   "title_sidebar": "Contents",
   "toc_cell": true,
   "toc_position": {
    "height": "calc(100% - 180px)",
    "left": "10px",
    "top": "150px",
    "width": "165px"
   },
   "toc_section_display": true,
   "toc_window_display": true
  }
 },
 "nbformat": 4,
 "nbformat_minor": 5
}
